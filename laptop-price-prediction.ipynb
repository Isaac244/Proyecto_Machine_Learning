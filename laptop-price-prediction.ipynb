{
 "cells": [
  {
   "cell_type": "markdown",
   "id": "4359370c",
   "metadata": {
    "papermill": {
     "duration": 0.031812,
     "end_time": "2021-11-12T11:16:05.140687",
     "exception": false,
     "start_time": "2021-11-12T11:16:05.108875",
     "status": "completed"
    },
    "tags": []
   },
   "source": [
    "# Laptop Price Prediction\n",
    "\n",
    "#### Loading the Data-Set for the Project"
   ]
  },
  {
   "cell_type": "code",
   "execution_count": 1,
   "id": "f54aae96",
   "metadata": {
    "execution": {
     "iopub.execute_input": "2021-11-12T11:16:05.200933Z",
     "iopub.status.busy": "2021-11-12T11:16:05.199650Z",
     "iopub.status.idle": "2021-11-12T11:16:06.140675Z",
     "shell.execute_reply": "2021-11-12T11:16:06.141517Z",
     "shell.execute_reply.started": "2021-11-12T11:09:58.477627Z"
    },
    "papermill": {
     "duration": 0.973363,
     "end_time": "2021-11-12T11:16:06.141810",
     "exception": false,
     "start_time": "2021-11-12T11:16:05.168447",
     "status": "completed"
    },
    "tags": []
   },
   "outputs": [],
   "source": [
    "import pandas as pd\n",
    "import numpy as np\n",
    "import matplotlib as plt\n",
    "import seaborn as sns"
   ]
  },
  {
   "cell_type": "code",
   "execution_count": 2,
   "id": "e6b47959",
   "metadata": {
    "execution": {
     "iopub.execute_input": "2021-11-12T11:16:06.204493Z",
     "iopub.status.busy": "2021-11-12T11:16:06.203548Z",
     "iopub.status.idle": "2021-11-12T11:16:06.272408Z",
     "shell.execute_reply": "2021-11-12T11:16:06.272904Z",
     "shell.execute_reply.started": "2021-11-12T11:09:58.490473Z"
    },
    "papermill": {
     "duration": 0.099737,
     "end_time": "2021-11-12T11:16:06.273109",
     "exception": false,
     "start_time": "2021-11-12T11:16:06.173372",
     "status": "completed"
    },
    "tags": []
   },
   "outputs": [
    {
     "data": {
      "text/html": [
       "<div>\n",
       "<style scoped>\n",
       "    .dataframe tbody tr th:only-of-type {\n",
       "        vertical-align: middle;\n",
       "    }\n",
       "\n",
       "    .dataframe tbody tr th {\n",
       "        vertical-align: top;\n",
       "    }\n",
       "\n",
       "    .dataframe thead th {\n",
       "        text-align: right;\n",
       "    }\n",
       "</style>\n",
       "<table border=\"1\" class=\"dataframe\">\n",
       "  <thead>\n",
       "    <tr style=\"text-align: right;\">\n",
       "      <th></th>\n",
       "      <th>Unnamed: 0</th>\n",
       "      <th>Company</th>\n",
       "      <th>Product</th>\n",
       "      <th>TypeName</th>\n",
       "      <th>Inches</th>\n",
       "      <th>ScreenResolution</th>\n",
       "      <th>Cpu</th>\n",
       "      <th>Ram</th>\n",
       "      <th>Memory</th>\n",
       "      <th>Gpu</th>\n",
       "      <th>OpSys</th>\n",
       "      <th>Weight</th>\n",
       "      <th>Price_euros</th>\n",
       "    </tr>\n",
       "  </thead>\n",
       "  <tbody>\n",
       "    <tr>\n",
       "      <th>0</th>\n",
       "      <td>1</td>\n",
       "      <td>Apple</td>\n",
       "      <td>MacBook Pro</td>\n",
       "      <td>Ultrabook</td>\n",
       "      <td>13.3</td>\n",
       "      <td>IPS Panel Retina Display 2560x1600</td>\n",
       "      <td>Intel Core i5 2.3GHz</td>\n",
       "      <td>8GB</td>\n",
       "      <td>128GB SSD</td>\n",
       "      <td>Intel Iris Plus Graphics 640</td>\n",
       "      <td>macOS</td>\n",
       "      <td>1.37kg</td>\n",
       "      <td>1339.69</td>\n",
       "    </tr>\n",
       "    <tr>\n",
       "      <th>1</th>\n",
       "      <td>2</td>\n",
       "      <td>Apple</td>\n",
       "      <td>Macbook Air</td>\n",
       "      <td>Ultrabook</td>\n",
       "      <td>13.3</td>\n",
       "      <td>1440x900</td>\n",
       "      <td>Intel Core i5 1.8GHz</td>\n",
       "      <td>8GB</td>\n",
       "      <td>128GB Flash Storage</td>\n",
       "      <td>Intel HD Graphics 6000</td>\n",
       "      <td>macOS</td>\n",
       "      <td>1.34kg</td>\n",
       "      <td>898.94</td>\n",
       "    </tr>\n",
       "    <tr>\n",
       "      <th>2</th>\n",
       "      <td>3</td>\n",
       "      <td>HP</td>\n",
       "      <td>250 G6</td>\n",
       "      <td>Notebook</td>\n",
       "      <td>15.6</td>\n",
       "      <td>Full HD 1920x1080</td>\n",
       "      <td>Intel Core i5 7200U 2.5GHz</td>\n",
       "      <td>8GB</td>\n",
       "      <td>256GB SSD</td>\n",
       "      <td>Intel HD Graphics 620</td>\n",
       "      <td>No OS</td>\n",
       "      <td>1.86kg</td>\n",
       "      <td>575.00</td>\n",
       "    </tr>\n",
       "    <tr>\n",
       "      <th>3</th>\n",
       "      <td>4</td>\n",
       "      <td>Apple</td>\n",
       "      <td>MacBook Pro</td>\n",
       "      <td>Ultrabook</td>\n",
       "      <td>15.4</td>\n",
       "      <td>IPS Panel Retina Display 2880x1800</td>\n",
       "      <td>Intel Core i7 2.7GHz</td>\n",
       "      <td>16GB</td>\n",
       "      <td>512GB SSD</td>\n",
       "      <td>AMD Radeon Pro 455</td>\n",
       "      <td>macOS</td>\n",
       "      <td>1.83kg</td>\n",
       "      <td>2537.45</td>\n",
       "    </tr>\n",
       "    <tr>\n",
       "      <th>4</th>\n",
       "      <td>5</td>\n",
       "      <td>Apple</td>\n",
       "      <td>MacBook Pro</td>\n",
       "      <td>Ultrabook</td>\n",
       "      <td>13.3</td>\n",
       "      <td>IPS Panel Retina Display 2560x1600</td>\n",
       "      <td>Intel Core i5 3.1GHz</td>\n",
       "      <td>8GB</td>\n",
       "      <td>256GB SSD</td>\n",
       "      <td>Intel Iris Plus Graphics 650</td>\n",
       "      <td>macOS</td>\n",
       "      <td>1.37kg</td>\n",
       "      <td>1803.60</td>\n",
       "    </tr>\n",
       "  </tbody>\n",
       "</table>\n",
       "</div>"
      ],
      "text/plain": [
       "   Unnamed: 0 Company      Product   TypeName  Inches  \\\n",
       "0           1   Apple  MacBook Pro  Ultrabook    13.3   \n",
       "1           2   Apple  Macbook Air  Ultrabook    13.3   \n",
       "2           3      HP       250 G6   Notebook    15.6   \n",
       "3           4   Apple  MacBook Pro  Ultrabook    15.4   \n",
       "4           5   Apple  MacBook Pro  Ultrabook    13.3   \n",
       "\n",
       "                     ScreenResolution                         Cpu   Ram  \\\n",
       "0  IPS Panel Retina Display 2560x1600        Intel Core i5 2.3GHz   8GB   \n",
       "1                            1440x900        Intel Core i5 1.8GHz   8GB   \n",
       "2                   Full HD 1920x1080  Intel Core i5 7200U 2.5GHz   8GB   \n",
       "3  IPS Panel Retina Display 2880x1800        Intel Core i7 2.7GHz  16GB   \n",
       "4  IPS Panel Retina Display 2560x1600        Intel Core i5 3.1GHz   8GB   \n",
       "\n",
       "                Memory                           Gpu  OpSys  Weight  \\\n",
       "0            128GB SSD  Intel Iris Plus Graphics 640  macOS  1.37kg   \n",
       "1  128GB Flash Storage        Intel HD Graphics 6000  macOS  1.34kg   \n",
       "2            256GB SSD         Intel HD Graphics 620  No OS  1.86kg   \n",
       "3            512GB SSD            AMD Radeon Pro 455  macOS  1.83kg   \n",
       "4            256GB SSD  Intel Iris Plus Graphics 650  macOS  1.37kg   \n",
       "\n",
       "   Price_euros  \n",
       "0      1339.69  \n",
       "1       898.94  \n",
       "2       575.00  \n",
       "3      2537.45  \n",
       "4      1803.60  "
      ]
     },
     "execution_count": 2,
     "metadata": {},
     "output_type": "execute_result"
    }
   ],
   "source": [
    "data = pd.read_csv(\"../input/laptop-prices/laptops.csv\", encoding='latin-1')\n",
    "data.head()"
   ]
  },
  {
   "cell_type": "code",
   "execution_count": 3,
   "id": "e439b376",
   "metadata": {
    "execution": {
     "iopub.execute_input": "2021-11-12T11:16:06.331891Z",
     "iopub.status.busy": "2021-11-12T11:16:06.331272Z",
     "iopub.status.idle": "2021-11-12T11:16:06.357407Z",
     "shell.execute_reply": "2021-11-12T11:16:06.356805Z",
     "shell.execute_reply.started": "2021-11-12T11:09:58.522929Z"
    },
    "papermill": {
     "duration": 0.056026,
     "end_time": "2021-11-12T11:16:06.357552",
     "exception": false,
     "start_time": "2021-11-12T11:16:06.301526",
     "status": "completed"
    },
    "tags": []
   },
   "outputs": [
    {
     "name": "stdout",
     "output_type": "stream",
     "text": [
      "<class 'pandas.core.frame.DataFrame'>\n",
      "RangeIndex: 1303 entries, 0 to 1302\n",
      "Data columns (total 13 columns):\n",
      " #   Column            Non-Null Count  Dtype  \n",
      "---  ------            --------------  -----  \n",
      " 0   Unnamed: 0        1303 non-null   int64  \n",
      " 1   Company           1303 non-null   object \n",
      " 2   Product           1303 non-null   object \n",
      " 3   TypeName          1303 non-null   object \n",
      " 4   Inches            1303 non-null   float64\n",
      " 5   ScreenResolution  1303 non-null   object \n",
      " 6   Cpu               1303 non-null   object \n",
      " 7   Ram               1303 non-null   object \n",
      " 8   Memory            1303 non-null   object \n",
      " 9   Gpu               1303 non-null   object \n",
      " 10  OpSys             1303 non-null   object \n",
      " 11  Weight            1303 non-null   object \n",
      " 12  Price_euros       1303 non-null   float64\n",
      "dtypes: float64(2), int64(1), object(10)\n",
      "memory usage: 132.5+ KB\n"
     ]
    }
   ],
   "source": [
    "data.info()"
   ]
  },
  {
   "cell_type": "markdown",
   "id": "3bb83242",
   "metadata": {
    "papermill": {
     "duration": 0.026381,
     "end_time": "2021-11-12T11:16:06.410943",
     "exception": false,
     "start_time": "2021-11-12T11:16:06.384562",
     "status": "completed"
    },
    "tags": []
   },
   "source": [
    "# Data Cleaning Process\n",
    "<ol>\n",
    "\n",
    "<li> Remove extra unnecessary details form Product Columns\n",
    " <li> Extract CPU Vender, CPU Type and CPU Speed in Different Columns\n",
    " <li> Convert Ram into Numeric Values\n",
    " <li> Extract Memory type from Memory Column\n",
    " <li> Convert Weight into numeric Values\n",
    " <li> Extract GPU Vender, GPU Type in Different Columns\n",
    " <li> Extract IPS and Touchscreen Feature form ScreenResolution Column\n",
    " </ol>"
   ]
  },
  {
   "cell_type": "markdown",
   "id": "7ca6f9ca",
   "metadata": {
    "papermill": {
     "duration": 0.027238,
     "end_time": "2021-11-12T11:16:06.465551",
     "exception": false,
     "start_time": "2021-11-12T11:16:06.438313",
     "status": "completed"
    },
    "tags": []
   },
   "source": [
    "## Remove extra unnecessary details form Product Columns"
   ]
  },
  {
   "cell_type": "code",
   "execution_count": 4,
   "id": "726e4791",
   "metadata": {
    "execution": {
     "iopub.execute_input": "2021-11-12T11:16:06.526548Z",
     "iopub.status.busy": "2021-11-12T11:16:06.525408Z",
     "iopub.status.idle": "2021-11-12T11:16:06.532895Z",
     "shell.execute_reply": "2021-11-12T11:16:06.533539Z",
     "shell.execute_reply.started": "2021-11-12T11:09:58.543774Z"
    },
    "papermill": {
     "duration": 0.039171,
     "end_time": "2021-11-12T11:16:06.533722",
     "exception": false,
     "start_time": "2021-11-12T11:16:06.494551",
     "status": "completed"
    },
    "tags": []
   },
   "outputs": [],
   "source": [
    "data[\"Product\"] = data[\"Product\"].str.split(\"(\").apply(lambda x: x[0])"
   ]
  },
  {
   "cell_type": "markdown",
   "id": "41e40dda",
   "metadata": {
    "papermill": {
     "duration": 0.027174,
     "end_time": "2021-11-12T11:16:06.589794",
     "exception": false,
     "start_time": "2021-11-12T11:16:06.562620",
     "status": "completed"
    },
    "tags": []
   },
   "source": [
    " ## Extract CPU Vender, CPU Type and CPU Speed in Different Columns"
   ]
  },
  {
   "cell_type": "code",
   "execution_count": 5,
   "id": "4875dd7c",
   "metadata": {
    "execution": {
     "iopub.execute_input": "2021-11-12T11:16:06.649504Z",
     "iopub.status.busy": "2021-11-12T11:16:06.648568Z",
     "iopub.status.idle": "2021-11-12T11:16:06.677927Z",
     "shell.execute_reply": "2021-11-12T11:16:06.678470Z",
     "shell.execute_reply.started": "2021-11-12T11:09:58.553326Z"
    },
    "papermill": {
     "duration": 0.061095,
     "end_time": "2021-11-12T11:16:06.678656",
     "exception": false,
     "start_time": "2021-11-12T11:16:06.617561",
     "status": "completed"
    },
    "tags": []
   },
   "outputs": [
    {
     "data": {
      "text/html": [
       "<div>\n",
       "<style scoped>\n",
       "    .dataframe tbody tr th:only-of-type {\n",
       "        vertical-align: middle;\n",
       "    }\n",
       "\n",
       "    .dataframe tbody tr th {\n",
       "        vertical-align: top;\n",
       "    }\n",
       "\n",
       "    .dataframe thead th {\n",
       "        text-align: right;\n",
       "    }\n",
       "</style>\n",
       "<table border=\"1\" class=\"dataframe\">\n",
       "  <thead>\n",
       "    <tr style=\"text-align: right;\">\n",
       "      <th></th>\n",
       "      <th>Unnamed: 0</th>\n",
       "      <th>Company</th>\n",
       "      <th>Product</th>\n",
       "      <th>TypeName</th>\n",
       "      <th>Inches</th>\n",
       "      <th>ScreenResolution</th>\n",
       "      <th>Cpu</th>\n",
       "      <th>Ram</th>\n",
       "      <th>Memory</th>\n",
       "      <th>Gpu</th>\n",
       "      <th>OpSys</th>\n",
       "      <th>Weight</th>\n",
       "      <th>Price_euros</th>\n",
       "      <th>Cpu_Speed</th>\n",
       "      <th>Cpu_Vender</th>\n",
       "      <th>Cpu_Type</th>\n",
       "    </tr>\n",
       "  </thead>\n",
       "  <tbody>\n",
       "    <tr>\n",
       "      <th>0</th>\n",
       "      <td>1</td>\n",
       "      <td>Apple</td>\n",
       "      <td>MacBook Pro</td>\n",
       "      <td>Ultrabook</td>\n",
       "      <td>13.3</td>\n",
       "      <td>IPS Panel Retina Display 2560x1600</td>\n",
       "      <td>Intel Core i5 2.3GHz</td>\n",
       "      <td>8GB</td>\n",
       "      <td>128GB SSD</td>\n",
       "      <td>Intel Iris Plus Graphics 640</td>\n",
       "      <td>macOS</td>\n",
       "      <td>1.37kg</td>\n",
       "      <td>1339.69</td>\n",
       "      <td>2.3</td>\n",
       "      <td>Intel</td>\n",
       "      <td>Core i5</td>\n",
       "    </tr>\n",
       "    <tr>\n",
       "      <th>1</th>\n",
       "      <td>2</td>\n",
       "      <td>Apple</td>\n",
       "      <td>Macbook Air</td>\n",
       "      <td>Ultrabook</td>\n",
       "      <td>13.3</td>\n",
       "      <td>1440x900</td>\n",
       "      <td>Intel Core i5 1.8GHz</td>\n",
       "      <td>8GB</td>\n",
       "      <td>128GB Flash Storage</td>\n",
       "      <td>Intel HD Graphics 6000</td>\n",
       "      <td>macOS</td>\n",
       "      <td>1.34kg</td>\n",
       "      <td>898.94</td>\n",
       "      <td>1.8</td>\n",
       "      <td>Intel</td>\n",
       "      <td>Core i5</td>\n",
       "    </tr>\n",
       "    <tr>\n",
       "      <th>2</th>\n",
       "      <td>3</td>\n",
       "      <td>HP</td>\n",
       "      <td>250 G6</td>\n",
       "      <td>Notebook</td>\n",
       "      <td>15.6</td>\n",
       "      <td>Full HD 1920x1080</td>\n",
       "      <td>Intel Core i5 7200U 2.5GHz</td>\n",
       "      <td>8GB</td>\n",
       "      <td>256GB SSD</td>\n",
       "      <td>Intel HD Graphics 620</td>\n",
       "      <td>No OS</td>\n",
       "      <td>1.86kg</td>\n",
       "      <td>575.00</td>\n",
       "      <td>2.5</td>\n",
       "      <td>Intel</td>\n",
       "      <td>Core i5</td>\n",
       "    </tr>\n",
       "    <tr>\n",
       "      <th>3</th>\n",
       "      <td>4</td>\n",
       "      <td>Apple</td>\n",
       "      <td>MacBook Pro</td>\n",
       "      <td>Ultrabook</td>\n",
       "      <td>15.4</td>\n",
       "      <td>IPS Panel Retina Display 2880x1800</td>\n",
       "      <td>Intel Core i7 2.7GHz</td>\n",
       "      <td>16GB</td>\n",
       "      <td>512GB SSD</td>\n",
       "      <td>AMD Radeon Pro 455</td>\n",
       "      <td>macOS</td>\n",
       "      <td>1.83kg</td>\n",
       "      <td>2537.45</td>\n",
       "      <td>2.7</td>\n",
       "      <td>Intel</td>\n",
       "      <td>Core i7</td>\n",
       "    </tr>\n",
       "    <tr>\n",
       "      <th>4</th>\n",
       "      <td>5</td>\n",
       "      <td>Apple</td>\n",
       "      <td>MacBook Pro</td>\n",
       "      <td>Ultrabook</td>\n",
       "      <td>13.3</td>\n",
       "      <td>IPS Panel Retina Display 2560x1600</td>\n",
       "      <td>Intel Core i5 3.1GHz</td>\n",
       "      <td>8GB</td>\n",
       "      <td>256GB SSD</td>\n",
       "      <td>Intel Iris Plus Graphics 650</td>\n",
       "      <td>macOS</td>\n",
       "      <td>1.37kg</td>\n",
       "      <td>1803.60</td>\n",
       "      <td>3.1</td>\n",
       "      <td>Intel</td>\n",
       "      <td>Core i5</td>\n",
       "    </tr>\n",
       "  </tbody>\n",
       "</table>\n",
       "</div>"
      ],
      "text/plain": [
       "   Unnamed: 0 Company      Product   TypeName  Inches  \\\n",
       "0           1   Apple  MacBook Pro  Ultrabook    13.3   \n",
       "1           2   Apple  Macbook Air  Ultrabook    13.3   \n",
       "2           3      HP       250 G6   Notebook    15.6   \n",
       "3           4   Apple  MacBook Pro  Ultrabook    15.4   \n",
       "4           5   Apple  MacBook Pro  Ultrabook    13.3   \n",
       "\n",
       "                     ScreenResolution                         Cpu   Ram  \\\n",
       "0  IPS Panel Retina Display 2560x1600        Intel Core i5 2.3GHz   8GB   \n",
       "1                            1440x900        Intel Core i5 1.8GHz   8GB   \n",
       "2                   Full HD 1920x1080  Intel Core i5 7200U 2.5GHz   8GB   \n",
       "3  IPS Panel Retina Display 2880x1800        Intel Core i7 2.7GHz  16GB   \n",
       "4  IPS Panel Retina Display 2560x1600        Intel Core i5 3.1GHz   8GB   \n",
       "\n",
       "                Memory                           Gpu  OpSys  Weight  \\\n",
       "0            128GB SSD  Intel Iris Plus Graphics 640  macOS  1.37kg   \n",
       "1  128GB Flash Storage        Intel HD Graphics 6000  macOS  1.34kg   \n",
       "2            256GB SSD         Intel HD Graphics 620  No OS  1.86kg   \n",
       "3            512GB SSD            AMD Radeon Pro 455  macOS  1.83kg   \n",
       "4            256GB SSD  Intel Iris Plus Graphics 650  macOS  1.37kg   \n",
       "\n",
       "   Price_euros Cpu_Speed Cpu_Vender Cpu_Type  \n",
       "0      1339.69       2.3      Intel  Core i5  \n",
       "1       898.94       1.8      Intel  Core i5  \n",
       "2       575.00       2.5      Intel  Core i5  \n",
       "3      2537.45       2.7      Intel  Core i7  \n",
       "4      1803.60       3.1      Intel  Core i5  "
      ]
     },
     "execution_count": 5,
     "metadata": {},
     "output_type": "execute_result"
    }
   ],
   "source": [
    "data[\"Cpu_Speed\"] = data[\"Cpu\"].str.split(\" \").apply(lambda x: x[-1]).str.replace(\"GHz\", \"\")\n",
    "data[\"Cpu_Vender\"] = data[\"Cpu\"].str.split(\" \").apply(lambda x: x[0])\n",
    "data[\"Cpu_Type\"] = data[\"Cpu\"].str.split(\" \").apply(lambda x: x[1:4] if x[1] == \"Celeron\" and \"Pentium\" and \"Xeon\" else (x[1:3] if (x[1] == \"Core\" or x[0] == \"AMD\") else x[0]) )\n",
    "data[\"Cpu_Type\"] = data[\"Cpu_Type\"].apply(lambda x: ' '.join(x))\n",
    "data[\"Cpu_Type\"]\n",
    "data.head()"
   ]
  },
  {
   "cell_type": "markdown",
   "id": "89dbab1f",
   "metadata": {
    "papermill": {
     "duration": 0.027846,
     "end_time": "2021-11-12T11:16:06.735258",
     "exception": false,
     "start_time": "2021-11-12T11:16:06.707412",
     "status": "completed"
    },
    "tags": []
   },
   "source": [
    "## Extract Memory type from Memory Column"
   ]
  },
  {
   "cell_type": "code",
   "execution_count": 6,
   "id": "db5c3a19",
   "metadata": {
    "execution": {
     "iopub.execute_input": "2021-11-12T11:16:06.852526Z",
     "iopub.status.busy": "2021-11-12T11:16:06.851737Z",
     "iopub.status.idle": "2021-11-12T11:16:06.874372Z",
     "shell.execute_reply": "2021-11-12T11:16:06.874915Z",
     "shell.execute_reply.started": "2021-11-12T11:09:58.600253Z"
    },
    "papermill": {
     "duration": 0.112539,
     "end_time": "2021-11-12T11:16:06.875123",
     "exception": false,
     "start_time": "2021-11-12T11:16:06.762584",
     "status": "completed"
    },
    "tags": []
   },
   "outputs": [
    {
     "data": {
      "text/html": [
       "<div>\n",
       "<style scoped>\n",
       "    .dataframe tbody tr th:only-of-type {\n",
       "        vertical-align: middle;\n",
       "    }\n",
       "\n",
       "    .dataframe tbody tr th {\n",
       "        vertical-align: top;\n",
       "    }\n",
       "\n",
       "    .dataframe thead th {\n",
       "        text-align: right;\n",
       "    }\n",
       "</style>\n",
       "<table border=\"1\" class=\"dataframe\">\n",
       "  <thead>\n",
       "    <tr style=\"text-align: right;\">\n",
       "      <th></th>\n",
       "      <th>Unnamed: 0</th>\n",
       "      <th>Company</th>\n",
       "      <th>Product</th>\n",
       "      <th>TypeName</th>\n",
       "      <th>Inches</th>\n",
       "      <th>ScreenResolution</th>\n",
       "      <th>Cpu</th>\n",
       "      <th>Ram</th>\n",
       "      <th>Memory</th>\n",
       "      <th>Gpu</th>\n",
       "      <th>OpSys</th>\n",
       "      <th>Weight</th>\n",
       "      <th>Price_euros</th>\n",
       "      <th>Cpu_Speed</th>\n",
       "      <th>Cpu_Vender</th>\n",
       "      <th>Cpu_Type</th>\n",
       "      <th>Storage Type</th>\n",
       "    </tr>\n",
       "  </thead>\n",
       "  <tbody>\n",
       "    <tr>\n",
       "      <th>0</th>\n",
       "      <td>1</td>\n",
       "      <td>Apple</td>\n",
       "      <td>MacBook Pro</td>\n",
       "      <td>Ultrabook</td>\n",
       "      <td>13.3</td>\n",
       "      <td>IPS Panel Retina Display 2560x1600</td>\n",
       "      <td>Intel Core i5 2.3GHz</td>\n",
       "      <td>8GB</td>\n",
       "      <td>128GB</td>\n",
       "      <td>Intel Iris Plus Graphics 640</td>\n",
       "      <td>macOS</td>\n",
       "      <td>1.37kg</td>\n",
       "      <td>1339.69</td>\n",
       "      <td>2.3</td>\n",
       "      <td>Intel</td>\n",
       "      <td>Core i5</td>\n",
       "      <td>SSD</td>\n",
       "    </tr>\n",
       "    <tr>\n",
       "      <th>1</th>\n",
       "      <td>2</td>\n",
       "      <td>Apple</td>\n",
       "      <td>Macbook Air</td>\n",
       "      <td>Ultrabook</td>\n",
       "      <td>13.3</td>\n",
       "      <td>1440x900</td>\n",
       "      <td>Intel Core i5 1.8GHz</td>\n",
       "      <td>8GB</td>\n",
       "      <td>128GB</td>\n",
       "      <td>Intel HD Graphics 6000</td>\n",
       "      <td>macOS</td>\n",
       "      <td>1.34kg</td>\n",
       "      <td>898.94</td>\n",
       "      <td>1.8</td>\n",
       "      <td>Intel</td>\n",
       "      <td>Core i5</td>\n",
       "      <td>Flash Storage</td>\n",
       "    </tr>\n",
       "    <tr>\n",
       "      <th>2</th>\n",
       "      <td>3</td>\n",
       "      <td>HP</td>\n",
       "      <td>250 G6</td>\n",
       "      <td>Notebook</td>\n",
       "      <td>15.6</td>\n",
       "      <td>Full HD 1920x1080</td>\n",
       "      <td>Intel Core i5 7200U 2.5GHz</td>\n",
       "      <td>8GB</td>\n",
       "      <td>256GB</td>\n",
       "      <td>Intel HD Graphics 620</td>\n",
       "      <td>No OS</td>\n",
       "      <td>1.86kg</td>\n",
       "      <td>575.00</td>\n",
       "      <td>2.5</td>\n",
       "      <td>Intel</td>\n",
       "      <td>Core i5</td>\n",
       "      <td>SSD</td>\n",
       "    </tr>\n",
       "    <tr>\n",
       "      <th>3</th>\n",
       "      <td>4</td>\n",
       "      <td>Apple</td>\n",
       "      <td>MacBook Pro</td>\n",
       "      <td>Ultrabook</td>\n",
       "      <td>15.4</td>\n",
       "      <td>IPS Panel Retina Display 2880x1800</td>\n",
       "      <td>Intel Core i7 2.7GHz</td>\n",
       "      <td>16GB</td>\n",
       "      <td>512GB</td>\n",
       "      <td>AMD Radeon Pro 455</td>\n",
       "      <td>macOS</td>\n",
       "      <td>1.83kg</td>\n",
       "      <td>2537.45</td>\n",
       "      <td>2.7</td>\n",
       "      <td>Intel</td>\n",
       "      <td>Core i7</td>\n",
       "      <td>SSD</td>\n",
       "    </tr>\n",
       "    <tr>\n",
       "      <th>4</th>\n",
       "      <td>5</td>\n",
       "      <td>Apple</td>\n",
       "      <td>MacBook Pro</td>\n",
       "      <td>Ultrabook</td>\n",
       "      <td>13.3</td>\n",
       "      <td>IPS Panel Retina Display 2560x1600</td>\n",
       "      <td>Intel Core i5 3.1GHz</td>\n",
       "      <td>8GB</td>\n",
       "      <td>256GB</td>\n",
       "      <td>Intel Iris Plus Graphics 650</td>\n",
       "      <td>macOS</td>\n",
       "      <td>1.37kg</td>\n",
       "      <td>1803.60</td>\n",
       "      <td>3.1</td>\n",
       "      <td>Intel</td>\n",
       "      <td>Core i5</td>\n",
       "      <td>SSD</td>\n",
       "    </tr>\n",
       "  </tbody>\n",
       "</table>\n",
       "</div>"
      ],
      "text/plain": [
       "   Unnamed: 0 Company      Product   TypeName  Inches  \\\n",
       "0           1   Apple  MacBook Pro  Ultrabook    13.3   \n",
       "1           2   Apple  Macbook Air  Ultrabook    13.3   \n",
       "2           3      HP       250 G6   Notebook    15.6   \n",
       "3           4   Apple  MacBook Pro  Ultrabook    15.4   \n",
       "4           5   Apple  MacBook Pro  Ultrabook    13.3   \n",
       "\n",
       "                     ScreenResolution                         Cpu   Ram  \\\n",
       "0  IPS Panel Retina Display 2560x1600        Intel Core i5 2.3GHz   8GB   \n",
       "1                            1440x900        Intel Core i5 1.8GHz   8GB   \n",
       "2                   Full HD 1920x1080  Intel Core i5 7200U 2.5GHz   8GB   \n",
       "3  IPS Panel Retina Display 2880x1800        Intel Core i7 2.7GHz  16GB   \n",
       "4  IPS Panel Retina Display 2560x1600        Intel Core i5 3.1GHz   8GB   \n",
       "\n",
       "  Memory                           Gpu  OpSys  Weight  Price_euros Cpu_Speed  \\\n",
       "0  128GB  Intel Iris Plus Graphics 640  macOS  1.37kg      1339.69       2.3   \n",
       "1  128GB        Intel HD Graphics 6000  macOS  1.34kg       898.94       1.8   \n",
       "2  256GB         Intel HD Graphics 620  No OS  1.86kg       575.00       2.5   \n",
       "3  512GB            AMD Radeon Pro 455  macOS  1.83kg      2537.45       2.7   \n",
       "4  256GB  Intel Iris Plus Graphics 650  macOS  1.37kg      1803.60       3.1   \n",
       "\n",
       "  Cpu_Vender Cpu_Type   Storage Type  \n",
       "0      Intel  Core i5            SSD  \n",
       "1      Intel  Core i5  Flash Storage  \n",
       "2      Intel  Core i5            SSD  \n",
       "3      Intel  Core i7            SSD  \n",
       "4      Intel  Core i5            SSD  "
      ]
     },
     "execution_count": 6,
     "metadata": {},
     "output_type": "execute_result"
    }
   ],
   "source": [
    "split_mem = data['Memory'].str.split(' ', 1, expand=True)\n",
    "data['Storage Type'] = split_mem[1]\n",
    "data['Memory'] = split_mem[0]\n",
    "data[\"Memory\"].unique()\n",
    "data.head()"
   ]
  },
  {
   "cell_type": "code",
   "execution_count": 7,
   "id": "83d1c178",
   "metadata": {
    "execution": {
     "iopub.execute_input": "2021-11-12T11:16:06.940963Z",
     "iopub.status.busy": "2021-11-12T11:16:06.940283Z",
     "iopub.status.idle": "2021-11-12T11:16:06.974203Z",
     "shell.execute_reply": "2021-11-12T11:16:06.973616Z",
     "shell.execute_reply.started": "2021-11-12T11:09:58.63506Z"
    },
    "papermill": {
     "duration": 0.068107,
     "end_time": "2021-11-12T11:16:06.974363",
     "exception": false,
     "start_time": "2021-11-12T11:16:06.906256",
     "status": "completed"
    },
    "tags": []
   },
   "outputs": [
    {
     "data": {
      "text/html": [
       "<div>\n",
       "<style scoped>\n",
       "    .dataframe tbody tr th:only-of-type {\n",
       "        vertical-align: middle;\n",
       "    }\n",
       "\n",
       "    .dataframe tbody tr th {\n",
       "        vertical-align: top;\n",
       "    }\n",
       "\n",
       "    .dataframe thead th {\n",
       "        text-align: right;\n",
       "    }\n",
       "</style>\n",
       "<table border=\"1\" class=\"dataframe\">\n",
       "  <thead>\n",
       "    <tr style=\"text-align: right;\">\n",
       "      <th></th>\n",
       "      <th>Unnamed: 0</th>\n",
       "      <th>Company</th>\n",
       "      <th>Product</th>\n",
       "      <th>TypeName</th>\n",
       "      <th>Inches</th>\n",
       "      <th>ScreenResolution</th>\n",
       "      <th>Cpu</th>\n",
       "      <th>Ram</th>\n",
       "      <th>Storage (GB)</th>\n",
       "      <th>Gpu</th>\n",
       "      <th>OpSys</th>\n",
       "      <th>Weight</th>\n",
       "      <th>Price_euros</th>\n",
       "      <th>Cpu_Speed</th>\n",
       "      <th>Cpu_Vender</th>\n",
       "      <th>Cpu_Type</th>\n",
       "      <th>Storage Type</th>\n",
       "    </tr>\n",
       "  </thead>\n",
       "  <tbody>\n",
       "    <tr>\n",
       "      <th>0</th>\n",
       "      <td>1</td>\n",
       "      <td>Apple</td>\n",
       "      <td>MacBook Pro</td>\n",
       "      <td>Ultrabook</td>\n",
       "      <td>13.3</td>\n",
       "      <td>IPS Panel Retina Display 2560x1600</td>\n",
       "      <td>Intel Core i5 2.3GHz</td>\n",
       "      <td>8</td>\n",
       "      <td>128</td>\n",
       "      <td>Intel Iris Plus Graphics 640</td>\n",
       "      <td>macOS</td>\n",
       "      <td>1.37kg</td>\n",
       "      <td>1339.69</td>\n",
       "      <td>2.3</td>\n",
       "      <td>Intel</td>\n",
       "      <td>Core i5</td>\n",
       "      <td>SSD</td>\n",
       "    </tr>\n",
       "    <tr>\n",
       "      <th>1</th>\n",
       "      <td>2</td>\n",
       "      <td>Apple</td>\n",
       "      <td>Macbook Air</td>\n",
       "      <td>Ultrabook</td>\n",
       "      <td>13.3</td>\n",
       "      <td>1440x900</td>\n",
       "      <td>Intel Core i5 1.8GHz</td>\n",
       "      <td>8</td>\n",
       "      <td>128</td>\n",
       "      <td>Intel HD Graphics 6000</td>\n",
       "      <td>macOS</td>\n",
       "      <td>1.34kg</td>\n",
       "      <td>898.94</td>\n",
       "      <td>1.8</td>\n",
       "      <td>Intel</td>\n",
       "      <td>Core i5</td>\n",
       "      <td>Flash Storage</td>\n",
       "    </tr>\n",
       "    <tr>\n",
       "      <th>2</th>\n",
       "      <td>3</td>\n",
       "      <td>HP</td>\n",
       "      <td>250 G6</td>\n",
       "      <td>Notebook</td>\n",
       "      <td>15.6</td>\n",
       "      <td>Full HD 1920x1080</td>\n",
       "      <td>Intel Core i5 7200U 2.5GHz</td>\n",
       "      <td>8</td>\n",
       "      <td>256</td>\n",
       "      <td>Intel HD Graphics 620</td>\n",
       "      <td>No OS</td>\n",
       "      <td>1.86kg</td>\n",
       "      <td>575.00</td>\n",
       "      <td>2.5</td>\n",
       "      <td>Intel</td>\n",
       "      <td>Core i5</td>\n",
       "      <td>SSD</td>\n",
       "    </tr>\n",
       "    <tr>\n",
       "      <th>3</th>\n",
       "      <td>4</td>\n",
       "      <td>Apple</td>\n",
       "      <td>MacBook Pro</td>\n",
       "      <td>Ultrabook</td>\n",
       "      <td>15.4</td>\n",
       "      <td>IPS Panel Retina Display 2880x1800</td>\n",
       "      <td>Intel Core i7 2.7GHz</td>\n",
       "      <td>16</td>\n",
       "      <td>512</td>\n",
       "      <td>AMD Radeon Pro 455</td>\n",
       "      <td>macOS</td>\n",
       "      <td>1.83kg</td>\n",
       "      <td>2537.45</td>\n",
       "      <td>2.7</td>\n",
       "      <td>Intel</td>\n",
       "      <td>Core i7</td>\n",
       "      <td>SSD</td>\n",
       "    </tr>\n",
       "    <tr>\n",
       "      <th>4</th>\n",
       "      <td>5</td>\n",
       "      <td>Apple</td>\n",
       "      <td>MacBook Pro</td>\n",
       "      <td>Ultrabook</td>\n",
       "      <td>13.3</td>\n",
       "      <td>IPS Panel Retina Display 2560x1600</td>\n",
       "      <td>Intel Core i5 3.1GHz</td>\n",
       "      <td>8</td>\n",
       "      <td>256</td>\n",
       "      <td>Intel Iris Plus Graphics 650</td>\n",
       "      <td>macOS</td>\n",
       "      <td>1.37kg</td>\n",
       "      <td>1803.60</td>\n",
       "      <td>3.1</td>\n",
       "      <td>Intel</td>\n",
       "      <td>Core i5</td>\n",
       "      <td>SSD</td>\n",
       "    </tr>\n",
       "  </tbody>\n",
       "</table>\n",
       "</div>"
      ],
      "text/plain": [
       "   Unnamed: 0 Company      Product   TypeName  Inches  \\\n",
       "0           1   Apple  MacBook Pro  Ultrabook    13.3   \n",
       "1           2   Apple  Macbook Air  Ultrabook    13.3   \n",
       "2           3      HP       250 G6   Notebook    15.6   \n",
       "3           4   Apple  MacBook Pro  Ultrabook    15.4   \n",
       "4           5   Apple  MacBook Pro  Ultrabook    13.3   \n",
       "\n",
       "                     ScreenResolution                         Cpu Ram  \\\n",
       "0  IPS Panel Retina Display 2560x1600        Intel Core i5 2.3GHz   8   \n",
       "1                            1440x900        Intel Core i5 1.8GHz   8   \n",
       "2                   Full HD 1920x1080  Intel Core i5 7200U 2.5GHz   8   \n",
       "3  IPS Panel Retina Display 2880x1800        Intel Core i7 2.7GHz  16   \n",
       "4  IPS Panel Retina Display 2560x1600        Intel Core i5 3.1GHz   8   \n",
       "\n",
       "   Storage (GB)                           Gpu  OpSys  Weight  Price_euros  \\\n",
       "0           128  Intel Iris Plus Graphics 640  macOS  1.37kg      1339.69   \n",
       "1           128        Intel HD Graphics 6000  macOS  1.34kg       898.94   \n",
       "2           256         Intel HD Graphics 620  No OS  1.86kg       575.00   \n",
       "3           512            AMD Radeon Pro 455  macOS  1.83kg      2537.45   \n",
       "4           256  Intel Iris Plus Graphics 650  macOS  1.37kg      1803.60   \n",
       "\n",
       "  Cpu_Speed Cpu_Vender Cpu_Type   Storage Type  \n",
       "0       2.3      Intel  Core i5            SSD  \n",
       "1       1.8      Intel  Core i5  Flash Storage  \n",
       "2       2.5      Intel  Core i5            SSD  \n",
       "3       2.7      Intel  Core i7            SSD  \n",
       "4       3.1      Intel  Core i5            SSD  "
      ]
     },
     "execution_count": 7,
     "metadata": {},
     "output_type": "execute_result"
    }
   ],
   "source": [
    "data[\"Ram\"] = data[\"Ram\"].str.replace(\"GB\", \"\")\n",
    "\n",
    "df_mem= data['Memory'].str.split('(\\d+)',  expand=True)\n",
    "data['Memory'] = pd.to_numeric(df_mem[1])\n",
    "data.rename(columns={'Memory':'Memory (GB or TB)'}, inplace=True)\n",
    "\n",
    "def mem(x):\n",
    "    if x == 1:\n",
    "        return 1024\n",
    "    elif x == 2:\n",
    "        return 2048\n",
    "data['Memory (GB or TB)'] = data['Memory (GB or TB)'].apply(lambda x: 1024 if x==1 else x)\n",
    "data['Memory (GB or TB)'] = data['Memory (GB or TB)'].apply(lambda x: 2048 if x==2 else x)\n",
    "data.rename(columns={'Memory (GB or TB)':'Storage (GB)'}, inplace=True)\n",
    "data.head()"
   ]
  },
  {
   "cell_type": "markdown",
   "id": "1a5ad409",
   "metadata": {
    "papermill": {
     "duration": 0.030482,
     "end_time": "2021-11-12T11:16:07.035406",
     "exception": false,
     "start_time": "2021-11-12T11:16:07.004924",
     "status": "completed"
    },
    "tags": []
   },
   "source": [
    "## Convert Weight into numeric Values"
   ]
  },
  {
   "cell_type": "code",
   "execution_count": 8,
   "id": "94813eb0",
   "metadata": {
    "execution": {
     "iopub.execute_input": "2021-11-12T11:16:07.102727Z",
     "iopub.status.busy": "2021-11-12T11:16:07.100496Z",
     "iopub.status.idle": "2021-11-12T11:16:07.121082Z",
     "shell.execute_reply": "2021-11-12T11:16:07.121782Z",
     "shell.execute_reply.started": "2021-11-12T11:09:58.678915Z"
    },
    "papermill": {
     "duration": 0.055006,
     "end_time": "2021-11-12T11:16:07.121976",
     "exception": false,
     "start_time": "2021-11-12T11:16:07.066970",
     "status": "completed"
    },
    "tags": []
   },
   "outputs": [
    {
     "data": {
      "text/html": [
       "<div>\n",
       "<style scoped>\n",
       "    .dataframe tbody tr th:only-of-type {\n",
       "        vertical-align: middle;\n",
       "    }\n",
       "\n",
       "    .dataframe tbody tr th {\n",
       "        vertical-align: top;\n",
       "    }\n",
       "\n",
       "    .dataframe thead th {\n",
       "        text-align: right;\n",
       "    }\n",
       "</style>\n",
       "<table border=\"1\" class=\"dataframe\">\n",
       "  <thead>\n",
       "    <tr style=\"text-align: right;\">\n",
       "      <th></th>\n",
       "      <th>Unnamed: 0</th>\n",
       "      <th>Company</th>\n",
       "      <th>Product</th>\n",
       "      <th>TypeName</th>\n",
       "      <th>Inches</th>\n",
       "      <th>ScreenResolution</th>\n",
       "      <th>Cpu</th>\n",
       "      <th>Ram</th>\n",
       "      <th>Storage (GB)</th>\n",
       "      <th>Gpu</th>\n",
       "      <th>OpSys</th>\n",
       "      <th>Weight</th>\n",
       "      <th>Price_euros</th>\n",
       "      <th>Cpu_Speed</th>\n",
       "      <th>Cpu_Vender</th>\n",
       "      <th>Cpu_Type</th>\n",
       "      <th>Storage Type</th>\n",
       "    </tr>\n",
       "  </thead>\n",
       "  <tbody>\n",
       "    <tr>\n",
       "      <th>0</th>\n",
       "      <td>1</td>\n",
       "      <td>Apple</td>\n",
       "      <td>MacBook Pro</td>\n",
       "      <td>Ultrabook</td>\n",
       "      <td>13.3</td>\n",
       "      <td>IPS Panel Retina Display 2560x1600</td>\n",
       "      <td>Intel Core i5 2.3GHz</td>\n",
       "      <td>8</td>\n",
       "      <td>128</td>\n",
       "      <td>Intel Iris Plus Graphics 640</td>\n",
       "      <td>macOS</td>\n",
       "      <td>1.37</td>\n",
       "      <td>1339.69</td>\n",
       "      <td>2.3</td>\n",
       "      <td>Intel</td>\n",
       "      <td>Core i5</td>\n",
       "      <td>SSD</td>\n",
       "    </tr>\n",
       "    <tr>\n",
       "      <th>1</th>\n",
       "      <td>2</td>\n",
       "      <td>Apple</td>\n",
       "      <td>Macbook Air</td>\n",
       "      <td>Ultrabook</td>\n",
       "      <td>13.3</td>\n",
       "      <td>1440x900</td>\n",
       "      <td>Intel Core i5 1.8GHz</td>\n",
       "      <td>8</td>\n",
       "      <td>128</td>\n",
       "      <td>Intel HD Graphics 6000</td>\n",
       "      <td>macOS</td>\n",
       "      <td>1.34</td>\n",
       "      <td>898.94</td>\n",
       "      <td>1.8</td>\n",
       "      <td>Intel</td>\n",
       "      <td>Core i5</td>\n",
       "      <td>Flash Storage</td>\n",
       "    </tr>\n",
       "    <tr>\n",
       "      <th>2</th>\n",
       "      <td>3</td>\n",
       "      <td>HP</td>\n",
       "      <td>250 G6</td>\n",
       "      <td>Notebook</td>\n",
       "      <td>15.6</td>\n",
       "      <td>Full HD 1920x1080</td>\n",
       "      <td>Intel Core i5 7200U 2.5GHz</td>\n",
       "      <td>8</td>\n",
       "      <td>256</td>\n",
       "      <td>Intel HD Graphics 620</td>\n",
       "      <td>No OS</td>\n",
       "      <td>1.86</td>\n",
       "      <td>575.00</td>\n",
       "      <td>2.5</td>\n",
       "      <td>Intel</td>\n",
       "      <td>Core i5</td>\n",
       "      <td>SSD</td>\n",
       "    </tr>\n",
       "    <tr>\n",
       "      <th>3</th>\n",
       "      <td>4</td>\n",
       "      <td>Apple</td>\n",
       "      <td>MacBook Pro</td>\n",
       "      <td>Ultrabook</td>\n",
       "      <td>15.4</td>\n",
       "      <td>IPS Panel Retina Display 2880x1800</td>\n",
       "      <td>Intel Core i7 2.7GHz</td>\n",
       "      <td>16</td>\n",
       "      <td>512</td>\n",
       "      <td>AMD Radeon Pro 455</td>\n",
       "      <td>macOS</td>\n",
       "      <td>1.83</td>\n",
       "      <td>2537.45</td>\n",
       "      <td>2.7</td>\n",
       "      <td>Intel</td>\n",
       "      <td>Core i7</td>\n",
       "      <td>SSD</td>\n",
       "    </tr>\n",
       "    <tr>\n",
       "      <th>4</th>\n",
       "      <td>5</td>\n",
       "      <td>Apple</td>\n",
       "      <td>MacBook Pro</td>\n",
       "      <td>Ultrabook</td>\n",
       "      <td>13.3</td>\n",
       "      <td>IPS Panel Retina Display 2560x1600</td>\n",
       "      <td>Intel Core i5 3.1GHz</td>\n",
       "      <td>8</td>\n",
       "      <td>256</td>\n",
       "      <td>Intel Iris Plus Graphics 650</td>\n",
       "      <td>macOS</td>\n",
       "      <td>1.37</td>\n",
       "      <td>1803.60</td>\n",
       "      <td>3.1</td>\n",
       "      <td>Intel</td>\n",
       "      <td>Core i5</td>\n",
       "      <td>SSD</td>\n",
       "    </tr>\n",
       "  </tbody>\n",
       "</table>\n",
       "</div>"
      ],
      "text/plain": [
       "   Unnamed: 0 Company      Product   TypeName  Inches  \\\n",
       "0           1   Apple  MacBook Pro  Ultrabook    13.3   \n",
       "1           2   Apple  Macbook Air  Ultrabook    13.3   \n",
       "2           3      HP       250 G6   Notebook    15.6   \n",
       "3           4   Apple  MacBook Pro  Ultrabook    15.4   \n",
       "4           5   Apple  MacBook Pro  Ultrabook    13.3   \n",
       "\n",
       "                     ScreenResolution                         Cpu Ram  \\\n",
       "0  IPS Panel Retina Display 2560x1600        Intel Core i5 2.3GHz   8   \n",
       "1                            1440x900        Intel Core i5 1.8GHz   8   \n",
       "2                   Full HD 1920x1080  Intel Core i5 7200U 2.5GHz   8   \n",
       "3  IPS Panel Retina Display 2880x1800        Intel Core i7 2.7GHz  16   \n",
       "4  IPS Panel Retina Display 2560x1600        Intel Core i5 3.1GHz   8   \n",
       "\n",
       "   Storage (GB)                           Gpu  OpSys Weight  Price_euros  \\\n",
       "0           128  Intel Iris Plus Graphics 640  macOS   1.37      1339.69   \n",
       "1           128        Intel HD Graphics 6000  macOS   1.34       898.94   \n",
       "2           256         Intel HD Graphics 620  No OS   1.86       575.00   \n",
       "3           512            AMD Radeon Pro 455  macOS   1.83      2537.45   \n",
       "4           256  Intel Iris Plus Graphics 650  macOS   1.37      1803.60   \n",
       "\n",
       "  Cpu_Speed Cpu_Vender Cpu_Type   Storage Type  \n",
       "0       2.3      Intel  Core i5            SSD  \n",
       "1       1.8      Intel  Core i5  Flash Storage  \n",
       "2       2.5      Intel  Core i5            SSD  \n",
       "3       2.7      Intel  Core i7            SSD  \n",
       "4       3.1      Intel  Core i5            SSD  "
      ]
     },
     "execution_count": 8,
     "metadata": {},
     "output_type": "execute_result"
    }
   ],
   "source": [
    "data[\"Weight\"] = data[\"Weight\"].str.replace(\"kg\", \"\")\n",
    "data.head()"
   ]
  },
  {
   "cell_type": "markdown",
   "id": "ad84c5de",
   "metadata": {
    "papermill": {
     "duration": 0.028491,
     "end_time": "2021-11-12T11:16:07.184994",
     "exception": false,
     "start_time": "2021-11-12T11:16:07.156503",
     "status": "completed"
    },
    "tags": []
   },
   "source": [
    "## Extract GPU Vender, GPU Type in Different Columns"
   ]
  },
  {
   "cell_type": "code",
   "execution_count": 9,
   "id": "83e97c2a",
   "metadata": {
    "execution": {
     "iopub.execute_input": "2021-11-12T11:16:07.248230Z",
     "iopub.status.busy": "2021-11-12T11:16:07.247556Z",
     "iopub.status.idle": "2021-11-12T11:16:07.279217Z",
     "shell.execute_reply": "2021-11-12T11:16:07.279739Z",
     "shell.execute_reply.started": "2021-11-12T11:09:58.706582Z"
    },
    "papermill": {
     "duration": 0.065923,
     "end_time": "2021-11-12T11:16:07.279934",
     "exception": false,
     "start_time": "2021-11-12T11:16:07.214011",
     "status": "completed"
    },
    "tags": []
   },
   "outputs": [
    {
     "data": {
      "text/html": [
       "<div>\n",
       "<style scoped>\n",
       "    .dataframe tbody tr th:only-of-type {\n",
       "        vertical-align: middle;\n",
       "    }\n",
       "\n",
       "    .dataframe tbody tr th {\n",
       "        vertical-align: top;\n",
       "    }\n",
       "\n",
       "    .dataframe thead th {\n",
       "        text-align: right;\n",
       "    }\n",
       "</style>\n",
       "<table border=\"1\" class=\"dataframe\">\n",
       "  <thead>\n",
       "    <tr style=\"text-align: right;\">\n",
       "      <th></th>\n",
       "      <th>Unnamed: 0</th>\n",
       "      <th>Company</th>\n",
       "      <th>Product</th>\n",
       "      <th>TypeName</th>\n",
       "      <th>Inches</th>\n",
       "      <th>ScreenResolution</th>\n",
       "      <th>Cpu</th>\n",
       "      <th>Ram</th>\n",
       "      <th>Storage (GB)</th>\n",
       "      <th>Gpu</th>\n",
       "      <th>OpSys</th>\n",
       "      <th>Weight</th>\n",
       "      <th>Price_euros</th>\n",
       "      <th>Cpu_Speed</th>\n",
       "      <th>Cpu_Vender</th>\n",
       "      <th>Cpu_Type</th>\n",
       "      <th>Storage Type</th>\n",
       "      <th>Gpu_Vender</th>\n",
       "      <th>Gpu_Type</th>\n",
       "    </tr>\n",
       "  </thead>\n",
       "  <tbody>\n",
       "    <tr>\n",
       "      <th>0</th>\n",
       "      <td>1</td>\n",
       "      <td>Apple</td>\n",
       "      <td>MacBook Pro</td>\n",
       "      <td>Ultrabook</td>\n",
       "      <td>13.3</td>\n",
       "      <td>IPS Panel Retina Display 2560x1600</td>\n",
       "      <td>Intel Core i5 2.3GHz</td>\n",
       "      <td>8</td>\n",
       "      <td>128</td>\n",
       "      <td>Intel Iris Plus Graphics 640</td>\n",
       "      <td>macOS</td>\n",
       "      <td>1.37</td>\n",
       "      <td>1339.69</td>\n",
       "      <td>2.3</td>\n",
       "      <td>Intel</td>\n",
       "      <td>Core i5</td>\n",
       "      <td>SSD</td>\n",
       "      <td>Intel</td>\n",
       "      <td>Iris Plus Graphics 640</td>\n",
       "    </tr>\n",
       "    <tr>\n",
       "      <th>1</th>\n",
       "      <td>2</td>\n",
       "      <td>Apple</td>\n",
       "      <td>Macbook Air</td>\n",
       "      <td>Ultrabook</td>\n",
       "      <td>13.3</td>\n",
       "      <td>1440x900</td>\n",
       "      <td>Intel Core i5 1.8GHz</td>\n",
       "      <td>8</td>\n",
       "      <td>128</td>\n",
       "      <td>Intel HD Graphics 6000</td>\n",
       "      <td>macOS</td>\n",
       "      <td>1.34</td>\n",
       "      <td>898.94</td>\n",
       "      <td>1.8</td>\n",
       "      <td>Intel</td>\n",
       "      <td>Core i5</td>\n",
       "      <td>Flash Storage</td>\n",
       "      <td>Intel</td>\n",
       "      <td>HD Graphics 6000</td>\n",
       "    </tr>\n",
       "    <tr>\n",
       "      <th>2</th>\n",
       "      <td>3</td>\n",
       "      <td>HP</td>\n",
       "      <td>250 G6</td>\n",
       "      <td>Notebook</td>\n",
       "      <td>15.6</td>\n",
       "      <td>Full HD 1920x1080</td>\n",
       "      <td>Intel Core i5 7200U 2.5GHz</td>\n",
       "      <td>8</td>\n",
       "      <td>256</td>\n",
       "      <td>Intel HD Graphics 620</td>\n",
       "      <td>No OS</td>\n",
       "      <td>1.86</td>\n",
       "      <td>575.00</td>\n",
       "      <td>2.5</td>\n",
       "      <td>Intel</td>\n",
       "      <td>Core i5</td>\n",
       "      <td>SSD</td>\n",
       "      <td>Intel</td>\n",
       "      <td>HD Graphics 620</td>\n",
       "    </tr>\n",
       "    <tr>\n",
       "      <th>3</th>\n",
       "      <td>4</td>\n",
       "      <td>Apple</td>\n",
       "      <td>MacBook Pro</td>\n",
       "      <td>Ultrabook</td>\n",
       "      <td>15.4</td>\n",
       "      <td>IPS Panel Retina Display 2880x1800</td>\n",
       "      <td>Intel Core i7 2.7GHz</td>\n",
       "      <td>16</td>\n",
       "      <td>512</td>\n",
       "      <td>AMD Radeon Pro 455</td>\n",
       "      <td>macOS</td>\n",
       "      <td>1.83</td>\n",
       "      <td>2537.45</td>\n",
       "      <td>2.7</td>\n",
       "      <td>Intel</td>\n",
       "      <td>Core i7</td>\n",
       "      <td>SSD</td>\n",
       "      <td>AMD</td>\n",
       "      <td>Radeon Pro 455</td>\n",
       "    </tr>\n",
       "    <tr>\n",
       "      <th>4</th>\n",
       "      <td>5</td>\n",
       "      <td>Apple</td>\n",
       "      <td>MacBook Pro</td>\n",
       "      <td>Ultrabook</td>\n",
       "      <td>13.3</td>\n",
       "      <td>IPS Panel Retina Display 2560x1600</td>\n",
       "      <td>Intel Core i5 3.1GHz</td>\n",
       "      <td>8</td>\n",
       "      <td>256</td>\n",
       "      <td>Intel Iris Plus Graphics 650</td>\n",
       "      <td>macOS</td>\n",
       "      <td>1.37</td>\n",
       "      <td>1803.60</td>\n",
       "      <td>3.1</td>\n",
       "      <td>Intel</td>\n",
       "      <td>Core i5</td>\n",
       "      <td>SSD</td>\n",
       "      <td>Intel</td>\n",
       "      <td>Iris Plus Graphics 650</td>\n",
       "    </tr>\n",
       "  </tbody>\n",
       "</table>\n",
       "</div>"
      ],
      "text/plain": [
       "   Unnamed: 0 Company      Product   TypeName  Inches  \\\n",
       "0           1   Apple  MacBook Pro  Ultrabook    13.3   \n",
       "1           2   Apple  Macbook Air  Ultrabook    13.3   \n",
       "2           3      HP       250 G6   Notebook    15.6   \n",
       "3           4   Apple  MacBook Pro  Ultrabook    15.4   \n",
       "4           5   Apple  MacBook Pro  Ultrabook    13.3   \n",
       "\n",
       "                     ScreenResolution                         Cpu Ram  \\\n",
       "0  IPS Panel Retina Display 2560x1600        Intel Core i5 2.3GHz   8   \n",
       "1                            1440x900        Intel Core i5 1.8GHz   8   \n",
       "2                   Full HD 1920x1080  Intel Core i5 7200U 2.5GHz   8   \n",
       "3  IPS Panel Retina Display 2880x1800        Intel Core i7 2.7GHz  16   \n",
       "4  IPS Panel Retina Display 2560x1600        Intel Core i5 3.1GHz   8   \n",
       "\n",
       "   Storage (GB)                           Gpu  OpSys Weight  Price_euros  \\\n",
       "0           128  Intel Iris Plus Graphics 640  macOS   1.37      1339.69   \n",
       "1           128        Intel HD Graphics 6000  macOS   1.34       898.94   \n",
       "2           256         Intel HD Graphics 620  No OS   1.86       575.00   \n",
       "3           512            AMD Radeon Pro 455  macOS   1.83      2537.45   \n",
       "4           256  Intel Iris Plus Graphics 650  macOS   1.37      1803.60   \n",
       "\n",
       "  Cpu_Speed Cpu_Vender Cpu_Type   Storage Type Gpu_Vender  \\\n",
       "0       2.3      Intel  Core i5            SSD      Intel   \n",
       "1       1.8      Intel  Core i5  Flash Storage      Intel   \n",
       "2       2.5      Intel  Core i5            SSD      Intel   \n",
       "3       2.7      Intel  Core i7            SSD        AMD   \n",
       "4       3.1      Intel  Core i5            SSD      Intel   \n",
       "\n",
       "                 Gpu_Type  \n",
       "0  Iris Plus Graphics 640  \n",
       "1        HD Graphics 6000  \n",
       "2         HD Graphics 620  \n",
       "3          Radeon Pro 455  \n",
       "4  Iris Plus Graphics 650  "
      ]
     },
     "execution_count": 9,
     "metadata": {},
     "output_type": "execute_result"
    }
   ],
   "source": [
    "gpu_distribution_list = data[\"Gpu\"].str.split(\" \")\n",
    "#data[\"Gpu_Vender\"] = data[\"Gpu\"].str.split(\" \").apply(lambda x: x[0:2]  if x[0] == \"Intel\" else x[0]  if x[0] == \"Intel Iris\" else x[0])\n",
    "data[\"Gpu_Vender\"] = data[\"Gpu\"].str.split(\" \").apply(lambda x: x[0])\n",
    "data[\"Gpu_Type\"] = data[\"Gpu\"].str.split(\" \").apply(lambda x: x[1:])\n",
    "data[\"Gpu_Type\"] = data[\"Gpu_Type\"].apply(lambda x: ' '.join(x))\n",
    "data.head()"
   ]
  },
  {
   "cell_type": "markdown",
   "id": "9649c31a",
   "metadata": {
    "papermill": {
     "duration": 0.03191,
     "end_time": "2021-11-12T11:16:07.345972",
     "exception": false,
     "start_time": "2021-11-12T11:16:07.314062",
     "status": "completed"
    },
    "tags": []
   },
   "source": [
    " ## Extract IPS and Touchscreen Feature form ScreenResolution Column"
   ]
  },
  {
   "cell_type": "code",
   "execution_count": 10,
   "id": "39b9e18e",
   "metadata": {
    "execution": {
     "iopub.execute_input": "2021-11-12T11:16:07.410857Z",
     "iopub.status.busy": "2021-11-12T11:16:07.409858Z",
     "iopub.status.idle": "2021-11-12T11:16:07.418012Z",
     "shell.execute_reply": "2021-11-12T11:16:07.419166Z",
     "shell.execute_reply.started": "2021-11-12T11:09:58.747327Z"
    },
    "papermill": {
     "duration": 0.042121,
     "end_time": "2021-11-12T11:16:07.419385",
     "exception": false,
     "start_time": "2021-11-12T11:16:07.377264",
     "status": "completed"
    },
    "tags": []
   },
   "outputs": [],
   "source": [
    "data['Touchscreen'] = data['ScreenResolution'].apply(lambda x:1 if 'Touchscreen' in x else 0)\n",
    "data['Ips'] = data['ScreenResolution'].apply(lambda x:1 if 'IPS' in x else 0)\n"
   ]
  },
  {
   "cell_type": "markdown",
   "id": "3f4a3809",
   "metadata": {
    "papermill": {
     "duration": 0.030574,
     "end_time": "2021-11-12T11:16:07.481144",
     "exception": false,
     "start_time": "2021-11-12T11:16:07.450570",
     "status": "completed"
    },
    "tags": []
   },
   "source": [
    " ## Catorizing The Operating System"
   ]
  },
  {
   "cell_type": "code",
   "execution_count": 11,
   "id": "22e35517",
   "metadata": {
    "execution": {
     "iopub.execute_input": "2021-11-12T11:16:07.544287Z",
     "iopub.status.busy": "2021-11-12T11:16:07.543323Z",
     "iopub.status.idle": "2021-11-12T11:16:07.549465Z",
     "shell.execute_reply": "2021-11-12T11:16:07.550004Z",
     "shell.execute_reply.started": "2021-11-12T11:09:58.759353Z"
    },
    "papermill": {
     "duration": 0.039019,
     "end_time": "2021-11-12T11:16:07.550225",
     "exception": false,
     "start_time": "2021-11-12T11:16:07.511206",
     "status": "completed"
    },
    "tags": []
   },
   "outputs": [],
   "source": [
    "def cat_os(inp):\n",
    "    if inp == 'Windows 10' or inp == 'Windows 7' or inp == 'Windows 10 S':\n",
    "        return 'Windows'\n",
    "    elif inp == 'macOS' or inp == 'Mac OS X':\n",
    "        return 'Mac'\n",
    "    else:\n",
    "        return 'Others/No OS/Linux'\n",
    "\n",
    "data['OpSys'] = data['OpSys'].apply(cat_os)"
   ]
  },
  {
   "cell_type": "markdown",
   "id": "b5ba4201",
   "metadata": {
    "papermill": {
     "duration": 0.03205,
     "end_time": "2021-11-12T11:16:07.614644",
     "exception": false,
     "start_time": "2021-11-12T11:16:07.582594",
     "status": "completed"
    },
    "tags": []
   },
   "source": [
    " ## Fetching Out The Use Full Columns the Leaving The Rest"
   ]
  },
  {
   "cell_type": "code",
   "execution_count": 12,
   "id": "909c840a",
   "metadata": {
    "execution": {
     "iopub.execute_input": "2021-11-12T11:16:07.681592Z",
     "iopub.status.busy": "2021-11-12T11:16:07.680622Z",
     "iopub.status.idle": "2021-11-12T11:16:07.689672Z",
     "shell.execute_reply": "2021-11-12T11:16:07.690201Z",
     "shell.execute_reply.started": "2021-11-12T11:09:58.773688Z"
    },
    "papermill": {
     "duration": 0.0444,
     "end_time": "2021-11-12T11:16:07.690395",
     "exception": false,
     "start_time": "2021-11-12T11:16:07.645995",
     "status": "completed"
    },
    "tags": []
   },
   "outputs": [],
   "source": [
    "data = data.reindex(columns=[\"Company\", \"TypeName\", \"Inches\", \"Touchscreen\", \"Ips\", \"Cpu_Vender\", \"Cpu_Type\",\"Ram\", \"Storage (GB)\", \"Storage Type\", \"Gpu_Vender\", \"Gpu_Type\", \"Weight\", \"OpSys\", \"Price_euros\" ])"
   ]
  },
  {
   "cell_type": "code",
   "execution_count": 13,
   "id": "6298504a",
   "metadata": {
    "execution": {
     "iopub.execute_input": "2021-11-12T11:16:07.758392Z",
     "iopub.status.busy": "2021-11-12T11:16:07.757703Z",
     "iopub.status.idle": "2021-11-12T11:16:07.774287Z",
     "shell.execute_reply": "2021-11-12T11:16:07.774798Z",
     "shell.execute_reply.started": "2021-11-12T11:09:58.787354Z"
    },
    "papermill": {
     "duration": 0.052585,
     "end_time": "2021-11-12T11:16:07.774970",
     "exception": false,
     "start_time": "2021-11-12T11:16:07.722385",
     "status": "completed"
    },
    "tags": []
   },
   "outputs": [
    {
     "data": {
      "text/html": [
       "<div>\n",
       "<style scoped>\n",
       "    .dataframe tbody tr th:only-of-type {\n",
       "        vertical-align: middle;\n",
       "    }\n",
       "\n",
       "    .dataframe tbody tr th {\n",
       "        vertical-align: top;\n",
       "    }\n",
       "\n",
       "    .dataframe thead th {\n",
       "        text-align: right;\n",
       "    }\n",
       "</style>\n",
       "<table border=\"1\" class=\"dataframe\">\n",
       "  <thead>\n",
       "    <tr style=\"text-align: right;\">\n",
       "      <th></th>\n",
       "      <th>Company</th>\n",
       "      <th>TypeName</th>\n",
       "      <th>Inches</th>\n",
       "      <th>Touchscreen</th>\n",
       "      <th>Ips</th>\n",
       "      <th>Cpu_Vender</th>\n",
       "      <th>Cpu_Type</th>\n",
       "      <th>Ram</th>\n",
       "      <th>Storage (GB)</th>\n",
       "      <th>Storage Type</th>\n",
       "      <th>Gpu_Vender</th>\n",
       "      <th>Gpu_Type</th>\n",
       "      <th>Weight</th>\n",
       "      <th>OpSys</th>\n",
       "      <th>Price_euros</th>\n",
       "    </tr>\n",
       "  </thead>\n",
       "  <tbody>\n",
       "    <tr>\n",
       "      <th>0</th>\n",
       "      <td>Apple</td>\n",
       "      <td>Ultrabook</td>\n",
       "      <td>13.3</td>\n",
       "      <td>0</td>\n",
       "      <td>1</td>\n",
       "      <td>Intel</td>\n",
       "      <td>Core i5</td>\n",
       "      <td>8</td>\n",
       "      <td>128</td>\n",
       "      <td>SSD</td>\n",
       "      <td>Intel</td>\n",
       "      <td>Iris Plus Graphics 640</td>\n",
       "      <td>1.37</td>\n",
       "      <td>Mac</td>\n",
       "      <td>1339.69</td>\n",
       "    </tr>\n",
       "    <tr>\n",
       "      <th>1</th>\n",
       "      <td>Apple</td>\n",
       "      <td>Ultrabook</td>\n",
       "      <td>13.3</td>\n",
       "      <td>0</td>\n",
       "      <td>0</td>\n",
       "      <td>Intel</td>\n",
       "      <td>Core i5</td>\n",
       "      <td>8</td>\n",
       "      <td>128</td>\n",
       "      <td>Flash Storage</td>\n",
       "      <td>Intel</td>\n",
       "      <td>HD Graphics 6000</td>\n",
       "      <td>1.34</td>\n",
       "      <td>Mac</td>\n",
       "      <td>898.94</td>\n",
       "    </tr>\n",
       "    <tr>\n",
       "      <th>2</th>\n",
       "      <td>HP</td>\n",
       "      <td>Notebook</td>\n",
       "      <td>15.6</td>\n",
       "      <td>0</td>\n",
       "      <td>0</td>\n",
       "      <td>Intel</td>\n",
       "      <td>Core i5</td>\n",
       "      <td>8</td>\n",
       "      <td>256</td>\n",
       "      <td>SSD</td>\n",
       "      <td>Intel</td>\n",
       "      <td>HD Graphics 620</td>\n",
       "      <td>1.86</td>\n",
       "      <td>Others/No OS/Linux</td>\n",
       "      <td>575.00</td>\n",
       "    </tr>\n",
       "    <tr>\n",
       "      <th>3</th>\n",
       "      <td>Apple</td>\n",
       "      <td>Ultrabook</td>\n",
       "      <td>15.4</td>\n",
       "      <td>0</td>\n",
       "      <td>1</td>\n",
       "      <td>Intel</td>\n",
       "      <td>Core i7</td>\n",
       "      <td>16</td>\n",
       "      <td>512</td>\n",
       "      <td>SSD</td>\n",
       "      <td>AMD</td>\n",
       "      <td>Radeon Pro 455</td>\n",
       "      <td>1.83</td>\n",
       "      <td>Mac</td>\n",
       "      <td>2537.45</td>\n",
       "    </tr>\n",
       "    <tr>\n",
       "      <th>4</th>\n",
       "      <td>Apple</td>\n",
       "      <td>Ultrabook</td>\n",
       "      <td>13.3</td>\n",
       "      <td>0</td>\n",
       "      <td>1</td>\n",
       "      <td>Intel</td>\n",
       "      <td>Core i5</td>\n",
       "      <td>8</td>\n",
       "      <td>256</td>\n",
       "      <td>SSD</td>\n",
       "      <td>Intel</td>\n",
       "      <td>Iris Plus Graphics 650</td>\n",
       "      <td>1.37</td>\n",
       "      <td>Mac</td>\n",
       "      <td>1803.60</td>\n",
       "    </tr>\n",
       "  </tbody>\n",
       "</table>\n",
       "</div>"
      ],
      "text/plain": [
       "  Company   TypeName  Inches  Touchscreen  Ips Cpu_Vender Cpu_Type Ram  \\\n",
       "0   Apple  Ultrabook    13.3            0    1      Intel  Core i5   8   \n",
       "1   Apple  Ultrabook    13.3            0    0      Intel  Core i5   8   \n",
       "2      HP   Notebook    15.6            0    0      Intel  Core i5   8   \n",
       "3   Apple  Ultrabook    15.4            0    1      Intel  Core i7  16   \n",
       "4   Apple  Ultrabook    13.3            0    1      Intel  Core i5   8   \n",
       "\n",
       "   Storage (GB)   Storage Type Gpu_Vender                Gpu_Type Weight  \\\n",
       "0           128            SSD      Intel  Iris Plus Graphics 640   1.37   \n",
       "1           128  Flash Storage      Intel        HD Graphics 6000   1.34   \n",
       "2           256            SSD      Intel         HD Graphics 620   1.86   \n",
       "3           512            SSD        AMD          Radeon Pro 455   1.83   \n",
       "4           256            SSD      Intel  Iris Plus Graphics 650   1.37   \n",
       "\n",
       "                OpSys  Price_euros  \n",
       "0                 Mac      1339.69  \n",
       "1                 Mac       898.94  \n",
       "2  Others/No OS/Linux       575.00  \n",
       "3                 Mac      2537.45  \n",
       "4                 Mac      1803.60  "
      ]
     },
     "execution_count": 13,
     "metadata": {},
     "output_type": "execute_result"
    }
   ],
   "source": [
    "data.head()"
   ]
  },
  {
   "cell_type": "code",
   "execution_count": 14,
   "id": "d25ac8b8",
   "metadata": {
    "execution": {
     "iopub.execute_input": "2021-11-12T11:16:07.845994Z",
     "iopub.status.busy": "2021-11-12T11:16:07.845317Z",
     "iopub.status.idle": "2021-11-12T11:16:07.858673Z",
     "shell.execute_reply": "2021-11-12T11:16:07.859256Z",
     "shell.execute_reply.started": "2021-11-12T11:09:58.813164Z"
    },
    "papermill": {
     "duration": 0.050634,
     "end_time": "2021-11-12T11:16:07.859459",
     "exception": false,
     "start_time": "2021-11-12T11:16:07.808825",
     "status": "completed"
    },
    "tags": []
   },
   "outputs": [
    {
     "name": "stdout",
     "output_type": "stream",
     "text": [
      "<class 'pandas.core.frame.DataFrame'>\n",
      "RangeIndex: 1303 entries, 0 to 1302\n",
      "Data columns (total 15 columns):\n",
      " #   Column        Non-Null Count  Dtype  \n",
      "---  ------        --------------  -----  \n",
      " 0   Company       1303 non-null   object \n",
      " 1   TypeName      1303 non-null   object \n",
      " 2   Inches        1303 non-null   float64\n",
      " 3   Touchscreen   1303 non-null   int64  \n",
      " 4   Ips           1303 non-null   int64  \n",
      " 5   Cpu_Vender    1303 non-null   object \n",
      " 6   Cpu_Type      1303 non-null   object \n",
      " 7   Ram           1303 non-null   object \n",
      " 8   Storage (GB)  1303 non-null   int64  \n",
      " 9   Storage Type  1303 non-null   object \n",
      " 10  Gpu_Vender    1303 non-null   object \n",
      " 11  Gpu_Type      1303 non-null   object \n",
      " 12  Weight        1303 non-null   object \n",
      " 13  OpSys         1303 non-null   object \n",
      " 14  Price_euros   1303 non-null   float64\n",
      "dtypes: float64(2), int64(3), object(10)\n",
      "memory usage: 152.8+ KB\n"
     ]
    }
   ],
   "source": [
    "data.info()"
   ]
  },
  {
   "cell_type": "markdown",
   "id": "93a96852",
   "metadata": {
    "papermill": {
     "duration": 0.032378,
     "end_time": "2021-11-12T11:16:07.924624",
     "exception": false,
     "start_time": "2021-11-12T11:16:07.892246",
     "status": "completed"
    },
    "tags": []
   },
   "source": [
    "# Transforming the Data Type of some of the Columns\n",
    "<ol>\n",
    "<li> Ram\n",
    "<li> Storage\n",
    "<li> Weight\n",
    "</ol>"
   ]
  },
  {
   "cell_type": "code",
   "execution_count": 15,
   "id": "056ce505",
   "metadata": {
    "execution": {
     "iopub.execute_input": "2021-11-12T11:16:07.992865Z",
     "iopub.status.busy": "2021-11-12T11:16:07.992210Z",
     "iopub.status.idle": "2021-11-12T11:16:07.998601Z",
     "shell.execute_reply": "2021-11-12T11:16:07.999072Z",
     "shell.execute_reply.started": "2021-11-12T11:09:58.832846Z"
    },
    "papermill": {
     "duration": 0.041678,
     "end_time": "2021-11-12T11:16:07.999237",
     "exception": false,
     "start_time": "2021-11-12T11:16:07.957559",
     "status": "completed"
    },
    "tags": []
   },
   "outputs": [],
   "source": [
    "data[\"Ram\"] = data[\"Ram\"].astype(\"int\")\n",
    "data[\"Storage (GB)\"] = data[\"Storage (GB)\"].astype(\"int\")\n",
    "data[\"Weight\"] = data[\"Weight\"].astype(\"float\")"
   ]
  },
  {
   "cell_type": "code",
   "execution_count": 16,
   "id": "ed8b03d7",
   "metadata": {
    "execution": {
     "iopub.execute_input": "2021-11-12T11:16:08.066654Z",
     "iopub.status.busy": "2021-11-12T11:16:08.065965Z",
     "iopub.status.idle": "2021-11-12T11:16:08.080489Z",
     "shell.execute_reply": "2021-11-12T11:16:08.081039Z",
     "shell.execute_reply.started": "2021-11-12T11:09:58.847035Z"
    },
    "papermill": {
     "duration": 0.050342,
     "end_time": "2021-11-12T11:16:08.081221",
     "exception": false,
     "start_time": "2021-11-12T11:16:08.030879",
     "status": "completed"
    },
    "tags": []
   },
   "outputs": [
    {
     "name": "stdout",
     "output_type": "stream",
     "text": [
      "<class 'pandas.core.frame.DataFrame'>\n",
      "RangeIndex: 1303 entries, 0 to 1302\n",
      "Data columns (total 15 columns):\n",
      " #   Column        Non-Null Count  Dtype  \n",
      "---  ------        --------------  -----  \n",
      " 0   Company       1303 non-null   object \n",
      " 1   TypeName      1303 non-null   object \n",
      " 2   Inches        1303 non-null   float64\n",
      " 3   Touchscreen   1303 non-null   int64  \n",
      " 4   Ips           1303 non-null   int64  \n",
      " 5   Cpu_Vender    1303 non-null   object \n",
      " 6   Cpu_Type      1303 non-null   object \n",
      " 7   Ram           1303 non-null   int64  \n",
      " 8   Storage (GB)  1303 non-null   int64  \n",
      " 9   Storage Type  1303 non-null   object \n",
      " 10  Gpu_Vender    1303 non-null   object \n",
      " 11  Gpu_Type      1303 non-null   object \n",
      " 12  Weight        1303 non-null   float64\n",
      " 13  OpSys         1303 non-null   object \n",
      " 14  Price_euros   1303 non-null   float64\n",
      "dtypes: float64(3), int64(4), object(8)\n",
      "memory usage: 152.8+ KB\n"
     ]
    }
   ],
   "source": [
    "data.info()"
   ]
  },
  {
   "cell_type": "code",
   "execution_count": 17,
   "id": "055715a6",
   "metadata": {
    "execution": {
     "iopub.execute_input": "2021-11-12T11:16:08.149761Z",
     "iopub.status.busy": "2021-11-12T11:16:08.149063Z",
     "iopub.status.idle": "2021-11-12T11:16:08.164594Z",
     "shell.execute_reply": "2021-11-12T11:16:08.165171Z",
     "shell.execute_reply.started": "2021-11-12T11:09:58.873214Z"
    },
    "papermill": {
     "duration": 0.051865,
     "end_time": "2021-11-12T11:16:08.165378",
     "exception": false,
     "start_time": "2021-11-12T11:16:08.113513",
     "status": "completed"
    },
    "tags": []
   },
   "outputs": [],
   "source": [
    "backup = data.to_csv(\"./laptop_price(3rd).csv\")"
   ]
  },
  {
   "cell_type": "markdown",
   "id": "4ff42798",
   "metadata": {
    "papermill": {
     "duration": 0.032478,
     "end_time": "2021-11-12T11:16:08.231177",
     "exception": false,
     "start_time": "2021-11-12T11:16:08.198699",
     "status": "completed"
    },
    "tags": []
   },
   "source": [
    " # Analysing Relation with The Clean Data"
   ]
  },
  {
   "cell_type": "code",
   "execution_count": 18,
   "id": "231dfc76",
   "metadata": {
    "execution": {
     "iopub.execute_input": "2021-11-12T11:16:08.302437Z",
     "iopub.status.busy": "2021-11-12T11:16:08.299865Z",
     "iopub.status.idle": "2021-11-12T11:16:08.304286Z",
     "shell.execute_reply": "2021-11-12T11:16:08.304791Z",
     "shell.execute_reply.started": "2021-11-12T11:09:58.900927Z"
    },
    "papermill": {
     "duration": 0.040536,
     "end_time": "2021-11-12T11:16:08.304971",
     "exception": false,
     "start_time": "2021-11-12T11:16:08.264435",
     "status": "completed"
    },
    "tags": []
   },
   "outputs": [],
   "source": [
    "sns.set(rc={\"figure.figsize\":(9, 5)})"
   ]
  },
  {
   "cell_type": "code",
   "execution_count": 19,
   "id": "d21e58bc",
   "metadata": {
    "execution": {
     "iopub.execute_input": "2021-11-12T11:16:08.374693Z",
     "iopub.status.busy": "2021-11-12T11:16:08.373915Z",
     "iopub.status.idle": "2021-11-12T11:16:08.826943Z",
     "shell.execute_reply": "2021-11-12T11:16:08.826164Z",
     "shell.execute_reply.started": "2021-11-12T11:09:58.908417Z"
    },
    "papermill": {
     "duration": 0.489222,
     "end_time": "2021-11-12T11:16:08.827104",
     "exception": false,
     "start_time": "2021-11-12T11:16:08.337882",
     "status": "completed"
    },
    "tags": []
   },
   "outputs": [
    {
     "data": {
      "text/plain": [
       "<AxesSubplot:>"
      ]
     },
     "execution_count": 19,
     "metadata": {},
     "output_type": "execute_result"
    },
    {
     "data": {
      "image/png": "[encoded data removed]",
      "text/plain": [
       "<Figure size 648x360 with 1 Axes>"
      ]
     },
     "metadata": {},
     "output_type": "display_data"
    }
   ],
   "source": [
    "data[\"Company\"].value_counts().plot(kind=\"bar\")"
   ]
  },
  {
   "cell_type": "code",
   "execution_count": 20,
   "id": "dd88897a",
   "metadata": {
    "execution": {
     "iopub.execute_input": "2021-11-12T11:16:08.907945Z",
     "iopub.status.busy": "2021-11-12T11:16:08.899393Z",
     "iopub.status.idle": "2021-11-12T11:16:09.796489Z",
     "shell.execute_reply": "2021-11-12T11:16:09.796986Z",
     "shell.execute_reply.started": "2021-11-12T11:09:59.351987Z"
    },
    "papermill": {
     "duration": 0.93773,
     "end_time": "2021-11-12T11:16:09.797196",
     "exception": false,
     "start_time": "2021-11-12T11:16:08.859466",
     "status": "completed"
    },
    "tags": []
   },
   "outputs": [
    {
     "data": {
      "text/plain": [
       "<AxesSubplot:xlabel='Company', ylabel='Price_euros'>"
      ]
     },
     "execution_count": 20,
     "metadata": {},
     "output_type": "execute_result"
    },
    {
     "data": {
      "image/png": "[encoded data removed]",
      "text/plain": [
       "<Figure size 648x360 with 1 Axes>"
      ]
     },
     "metadata": {},
     "output_type": "display_data"
    }
   ],
   "source": [
    "sns.barplot(x=data[\"Company\"], y=data[\"Price_euros\"])"
   ]
  },
  {
   "cell_type": "code",
   "execution_count": 21,
   "id": "e6b33a1b",
   "metadata": {
    "execution": {
     "iopub.execute_input": "2021-11-12T11:16:09.869480Z",
     "iopub.status.busy": "2021-11-12T11:16:09.868855Z",
     "iopub.status.idle": "2021-11-12T11:16:10.117888Z",
     "shell.execute_reply": "2021-11-12T11:16:10.118519Z",
     "shell.execute_reply.started": "2021-11-12T11:10:00.370278Z"
    },
    "papermill": {
     "duration": 0.287469,
     "end_time": "2021-11-12T11:16:10.118699",
     "exception": false,
     "start_time": "2021-11-12T11:16:09.831230",
     "status": "completed"
    },
    "tags": []
   },
   "outputs": [
    {
     "data": {
      "text/plain": [
       "<AxesSubplot:>"
      ]
     },
     "execution_count": 21,
     "metadata": {},
     "output_type": "execute_result"
    },
    {
     "data": {
      "image/png": "[encoded data removed]",
      "text/plain": [
       "<Figure size 648x360 with 1 Axes>"
      ]
     },
     "metadata": {},
     "output_type": "display_data"
    }
   ],
   "source": [
    "data[\"TypeName\"].value_counts().plot(kind=\"bar\")"
   ]
  },
  {
   "cell_type": "code",
   "execution_count": 22,
   "id": "21bdfe3a",
   "metadata": {
    "execution": {
     "iopub.execute_input": "2021-11-12T11:16:10.200789Z",
     "iopub.status.busy": "2021-11-12T11:16:10.199789Z",
     "iopub.status.idle": "2021-11-12T11:16:10.578864Z",
     "shell.execute_reply": "2021-11-12T11:16:10.578347Z",
     "shell.execute_reply.started": "2021-11-12T11:10:00.608797Z"
    },
    "papermill": {
     "duration": 0.424437,
     "end_time": "2021-11-12T11:16:10.578999",
     "exception": false,
     "start_time": "2021-11-12T11:16:10.154562",
     "status": "completed"
    },
    "tags": []
   },
   "outputs": [
    {
     "data": {
      "text/plain": [
       "<AxesSubplot:xlabel='TypeName', ylabel='Price_euros'>"
      ]
     },
     "execution_count": 22,
     "metadata": {},
     "output_type": "execute_result"
    },
    {
     "data": {
      "image/png": "[encoded data removed]",
      "text/plain": [
       "<Figure size 648x360 with 1 Axes>"
      ]
     },
     "metadata": {},
     "output_type": "display_data"
    }
   ],
   "source": [
    "sns.barplot(x=data['TypeName'],y=data['Price_euros'])"
   ]
  },
  {
   "cell_type": "code",
   "execution_count": 23,
   "id": "79a71357",
   "metadata": {
    "execution": {
     "iopub.execute_input": "2021-11-12T11:16:10.654268Z",
     "iopub.status.busy": "2021-11-12T11:16:10.653637Z",
     "iopub.status.idle": "2021-11-12T11:16:10.663767Z",
     "shell.execute_reply": "2021-11-12T11:16:10.664199Z",
     "shell.execute_reply.started": "2021-11-12T11:10:01.028462Z"
    },
    "papermill": {
     "duration": 0.049402,
     "end_time": "2021-11-12T11:16:10.664373",
     "exception": false,
     "start_time": "2021-11-12T11:16:10.614971",
     "status": "completed"
    },
    "tags": []
   },
   "outputs": [
    {
     "data": {
      "text/html": [
       "<div>\n",
       "<style scoped>\n",
       "    .dataframe tbody tr th:only-of-type {\n",
       "        vertical-align: middle;\n",
       "    }\n",
       "\n",
       "    .dataframe tbody tr th {\n",
       "        vertical-align: top;\n",
       "    }\n",
       "\n",
       "    .dataframe thead th {\n",
       "        text-align: right;\n",
       "    }\n",
       "</style>\n",
       "<table border=\"1\" class=\"dataframe\">\n",
       "  <thead>\n",
       "    <tr style=\"text-align: right;\">\n",
       "      <th></th>\n",
       "      <th>index</th>\n",
       "      <th>Cpu_Type</th>\n",
       "    </tr>\n",
       "  </thead>\n",
       "  <tbody>\n",
       "    <tr>\n",
       "      <th>0</th>\n",
       "      <td>Core i7</td>\n",
       "      <td>527</td>\n",
       "    </tr>\n",
       "    <tr>\n",
       "      <th>1</th>\n",
       "      <td>Core i5</td>\n",
       "      <td>423</td>\n",
       "    </tr>\n",
       "    <tr>\n",
       "      <th>2</th>\n",
       "      <td>Core i3</td>\n",
       "      <td>136</td>\n",
       "    </tr>\n",
       "    <tr>\n",
       "      <th>3</th>\n",
       "      <td>Celeron Dual Core</td>\n",
       "      <td>80</td>\n",
       "    </tr>\n",
       "    <tr>\n",
       "      <th>4</th>\n",
       "      <td>I n t e l</td>\n",
       "      <td>47</td>\n",
       "    </tr>\n",
       "    <tr>\n",
       "      <th>5</th>\n",
       "      <td>Core M</td>\n",
       "      <td>19</td>\n",
       "    </tr>\n",
       "    <tr>\n",
       "      <th>6</th>\n",
       "      <td>A9-Series 9420</td>\n",
       "      <td>12</td>\n",
       "    </tr>\n",
       "    <tr>\n",
       "      <th>7</th>\n",
       "      <td>Celeron Quad Core</td>\n",
       "      <td>8</td>\n",
       "    </tr>\n",
       "    <tr>\n",
       "      <th>8</th>\n",
       "      <td>A6-Series 9220</td>\n",
       "      <td>8</td>\n",
       "    </tr>\n",
       "    <tr>\n",
       "      <th>9</th>\n",
       "      <td>A12-Series 9720P</td>\n",
       "      <td>7</td>\n",
       "    </tr>\n",
       "  </tbody>\n",
       "</table>\n",
       "</div>"
      ],
      "text/plain": [
       "               index  Cpu_Type\n",
       "0            Core i7       527\n",
       "1            Core i5       423\n",
       "2            Core i3       136\n",
       "3  Celeron Dual Core        80\n",
       "4          I n t e l        47\n",
       "5             Core M        19\n",
       "6     A9-Series 9420        12\n",
       "7  Celeron Quad Core         8\n",
       "8     A6-Series 9220         8\n",
       "9   A12-Series 9720P         7"
      ]
     },
     "execution_count": 23,
     "metadata": {},
     "output_type": "execute_result"
    }
   ],
   "source": [
    "cpu_distribution = data[\"Cpu_Type\"].value_counts()[:10].reset_index()\n",
    "cpu_distribution"
   ]
  },
  {
   "cell_type": "code",
   "execution_count": 24,
   "id": "ef2b1b24",
   "metadata": {
    "execution": {
     "iopub.execute_input": "2021-11-12T11:16:10.740796Z",
     "iopub.status.busy": "2021-11-12T11:16:10.740147Z",
     "iopub.status.idle": "2021-11-12T11:16:11.267154Z",
     "shell.execute_reply": "2021-11-12T11:16:11.266517Z",
     "shell.execute_reply.started": "2021-11-12T11:10:01.04645Z"
    },
    "papermill": {
     "duration": 0.566878,
     "end_time": "2021-11-12T11:16:11.267292",
     "exception": false,
     "start_time": "2021-11-12T11:16:10.700414",
     "status": "completed"
    },
    "tags": []
   },
   "outputs": [
    {
     "data": {
      "text/plain": [
       "<AxesSubplot:xlabel='index', ylabel='Cpu_Type'>"
      ]
     },
     "execution_count": 24,
     "metadata": {},
     "output_type": "execute_result"
    },
    {
     "data": {
      "image/png": "[encoded data removed]",
      "text/plain": [
       "<Figure size 648x360 with 1 Axes>"
      ]
     },
     "metadata": {},
     "output_type": "display_data"
    }
   ],
   "source": [
    "sns.barplot(x=cpu_distribution[\"index\"], y=cpu_distribution[\"Cpu_Type\"], hue=\"Cpu_Vender\", data=data)"
   ]
  },
  {
   "cell_type": "code",
   "execution_count": 25,
   "id": "181922b7",
   "metadata": {
    "execution": {
     "iopub.execute_input": "2021-11-12T11:16:11.352133Z",
     "iopub.status.busy": "2021-11-12T11:16:11.351455Z",
     "iopub.status.idle": "2021-11-12T11:16:11.354966Z",
     "shell.execute_reply": "2021-11-12T11:16:11.355385Z",
     "shell.execute_reply.started": "2021-11-12T11:10:01.64954Z"
    },
    "papermill": {
     "duration": 0.051614,
     "end_time": "2021-11-12T11:16:11.355565",
     "exception": false,
     "start_time": "2021-11-12T11:16:11.303951",
     "status": "completed"
    },
    "tags": []
   },
   "outputs": [
    {
     "data": {
      "text/html": [
       "<div>\n",
       "<style scoped>\n",
       "    .dataframe tbody tr th:only-of-type {\n",
       "        vertical-align: middle;\n",
       "    }\n",
       "\n",
       "    .dataframe tbody tr th {\n",
       "        vertical-align: top;\n",
       "    }\n",
       "\n",
       "    .dataframe thead th {\n",
       "        text-align: right;\n",
       "    }\n",
       "</style>\n",
       "<table border=\"1\" class=\"dataframe\">\n",
       "  <thead>\n",
       "    <tr style=\"text-align: right;\">\n",
       "      <th></th>\n",
       "      <th>index</th>\n",
       "      <th>Gpu_Type</th>\n",
       "    </tr>\n",
       "  </thead>\n",
       "  <tbody>\n",
       "    <tr>\n",
       "      <th>0</th>\n",
       "      <td>HD Graphics 620</td>\n",
       "      <td>281</td>\n",
       "    </tr>\n",
       "    <tr>\n",
       "      <th>1</th>\n",
       "      <td>HD Graphics 520</td>\n",
       "      <td>185</td>\n",
       "    </tr>\n",
       "    <tr>\n",
       "      <th>2</th>\n",
       "      <td>UHD Graphics 620</td>\n",
       "      <td>68</td>\n",
       "    </tr>\n",
       "    <tr>\n",
       "      <th>3</th>\n",
       "      <td>GeForce GTX 1050</td>\n",
       "      <td>66</td>\n",
       "    </tr>\n",
       "    <tr>\n",
       "      <th>4</th>\n",
       "      <td>GeForce GTX 1060</td>\n",
       "      <td>48</td>\n",
       "    </tr>\n",
       "    <tr>\n",
       "      <th>5</th>\n",
       "      <td>GeForce 940MX</td>\n",
       "      <td>43</td>\n",
       "    </tr>\n",
       "    <tr>\n",
       "      <th>6</th>\n",
       "      <td>Radeon 530</td>\n",
       "      <td>41</td>\n",
       "    </tr>\n",
       "    <tr>\n",
       "      <th>7</th>\n",
       "      <td>HD Graphics 500</td>\n",
       "      <td>39</td>\n",
       "    </tr>\n",
       "    <tr>\n",
       "      <th>8</th>\n",
       "      <td>HD Graphics 400</td>\n",
       "      <td>37</td>\n",
       "    </tr>\n",
       "    <tr>\n",
       "      <th>9</th>\n",
       "      <td>GeForce GTX 1070</td>\n",
       "      <td>30</td>\n",
       "    </tr>\n",
       "  </tbody>\n",
       "</table>\n",
       "</div>"
      ],
      "text/plain": [
       "              index  Gpu_Type\n",
       "0   HD Graphics 620       281\n",
       "1   HD Graphics 520       185\n",
       "2  UHD Graphics 620        68\n",
       "3  GeForce GTX 1050        66\n",
       "4  GeForce GTX 1060        48\n",
       "5     GeForce 940MX        43\n",
       "6        Radeon 530        41\n",
       "7   HD Graphics 500        39\n",
       "8   HD Graphics 400        37\n",
       "9  GeForce GTX 1070        30"
      ]
     },
     "execution_count": 25,
     "metadata": {},
     "output_type": "execute_result"
    }
   ],
   "source": [
    "gpu_distribution = data[\"Gpu_Type\"].value_counts()[:10].reset_index()\n",
    "gpu_distribution"
   ]
  },
  {
   "cell_type": "code",
   "execution_count": 26,
   "id": "ed57e9ac",
   "metadata": {
    "execution": {
     "iopub.execute_input": "2021-11-12T11:16:11.443251Z",
     "iopub.status.busy": "2021-11-12T11:16:11.442282Z",
     "iopub.status.idle": "2021-11-12T11:16:12.074451Z",
     "shell.execute_reply": "2021-11-12T11:16:12.074929Z",
     "shell.execute_reply.started": "2021-11-12T11:10:01.665357Z"
    },
    "papermill": {
     "duration": 0.681744,
     "end_time": "2021-11-12T11:16:12.075151",
     "exception": false,
     "start_time": "2021-11-12T11:16:11.393407",
     "status": "completed"
    },
    "tags": []
   },
   "outputs": [
    {
     "data": {
      "text/plain": [
       "<AxesSubplot:xlabel='index', ylabel='Gpu_Type'>"
      ]
     },
     "execution_count": 26,
     "metadata": {},
     "output_type": "execute_result"
    },
    {
     "data": {
      "image/png": "[encoded data removed]",
      "text/plain": [
       "<Figure size 648x360 with 1 Axes>"
      ]
     },
     "metadata": {},
     "output_type": "display_data"
    }
   ],
   "source": [
    "sns.barplot(x=gpu_distribution[\"index\"], y=gpu_distribution[\"Gpu_Type\"], hue=\"Gpu_Vender\", data=data)"
   ]
  },
  {
   "cell_type": "code",
   "execution_count": 27,
   "id": "1ff44e8d",
   "metadata": {
    "execution": {
     "iopub.execute_input": "2021-11-12T11:16:12.161166Z",
     "iopub.status.busy": "2021-11-12T11:16:12.157213Z",
     "iopub.status.idle": "2021-11-12T11:16:12.456565Z",
     "shell.execute_reply": "2021-11-12T11:16:12.455594Z",
     "shell.execute_reply.started": "2021-11-12T11:10:02.348398Z"
    },
    "papermill": {
     "duration": 0.342516,
     "end_time": "2021-11-12T11:16:12.456713",
     "exception": false,
     "start_time": "2021-11-12T11:16:12.114197",
     "status": "completed"
    },
    "tags": []
   },
   "outputs": [
    {
     "data": {
      "text/plain": [
       "<AxesSubplot:xlabel='OpSys', ylabel='Price_euros'>"
      ]
     },
     "execution_count": 27,
     "metadata": {},
     "output_type": "execute_result"
    },
    {
     "data": {
      "image/png": "[encoded data removed]",
      "text/plain": [
       "<Figure size 648x360 with 1 Axes>"
      ]
     },
     "metadata": {},
     "output_type": "display_data"
    }
   ],
   "source": [
    "sns.barplot(x=data['OpSys'],y=data['Price_euros'])"
   ]
  },
  {
   "cell_type": "code",
   "execution_count": 28,
   "id": "d77385c2",
   "metadata": {
    "execution": {
     "iopub.execute_input": "2021-11-12T11:16:12.541972Z",
     "iopub.status.busy": "2021-11-12T11:16:12.540909Z",
     "iopub.status.idle": "2021-11-12T11:16:12.547634Z",
     "shell.execute_reply": "2021-11-12T11:16:12.548089Z",
     "shell.execute_reply.started": "2021-11-12T11:10:02.64188Z"
    },
    "papermill": {
     "duration": 0.052129,
     "end_time": "2021-11-12T11:16:12.548271",
     "exception": false,
     "start_time": "2021-11-12T11:16:12.496142",
     "status": "completed"
    },
    "tags": []
   },
   "outputs": [
    {
     "data": {
      "text/plain": [
       "Price_euros     1.000000\n",
       "Ram             0.743007\n",
       "Ips             0.252208\n",
       "Weight          0.210370\n",
       "Touchscreen     0.191226\n",
       "Inches          0.068197\n",
       "Storage (GB)   -0.125363\n",
       "Name: Price_euros, dtype: float64"
      ]
     },
     "execution_count": 28,
     "metadata": {},
     "output_type": "execute_result"
    }
   ],
   "source": [
    "corr_data = data.corr()\n",
    "corr_data[\"Price_euros\"].sort_values(ascending=False)"
   ]
  },
  {
   "cell_type": "code",
   "execution_count": 29,
   "id": "dcedaa48",
   "metadata": {
    "execution": {
     "iopub.execute_input": "2021-11-12T11:16:12.633038Z",
     "iopub.status.busy": "2021-11-12T11:16:12.632367Z",
     "iopub.status.idle": "2021-11-12T11:16:12.969332Z",
     "shell.execute_reply": "2021-11-12T11:16:12.968856Z",
     "shell.execute_reply.started": "2021-11-12T11:10:02.654909Z"
    },
    "papermill": {
     "duration": 0.381229,
     "end_time": "2021-11-12T11:16:12.969475",
     "exception": false,
     "start_time": "2021-11-12T11:16:12.588246",
     "status": "completed"
    },
    "tags": []
   },
   "outputs": [
    {
     "data": {
      "text/plain": [
       "<AxesSubplot:>"
      ]
     },
     "execution_count": 29,
     "metadata": {},
     "output_type": "execute_result"
    },
    {
     "data": {
      "image/png": "[encoded data removed]",
      "text/plain": [
       "<Figure size 648x360 with 2 Axes>"
      ]
     },
     "metadata": {},
     "output_type": "display_data"
    }
   ],
   "source": [
    "sns.heatmap(data.corr())"
   ]
  },
  {
   "cell_type": "markdown",
   "id": "9b5fb3e3",
   "metadata": {
    "papermill": {
     "duration": 0.042122,
     "end_time": "2021-11-12T11:16:13.051784",
     "exception": false,
     "start_time": "2021-11-12T11:16:13.009662",
     "status": "completed"
    },
    "tags": []
   },
   "source": [
    "# Result of Analysing Data\n",
    " <ol>\n",
    " <li> Dell, Lenovo and HP are dominant company in Selling Laptops\n",
    " <li> The Average Price of the Laptop in all Branda lies between 1500 to 200 Euros\n",
    " <li> In The Laptop Type NoteBook is a Dominant Factor as its Price is also preety low compare to its popularity and other Laptop Type\n",
    " <li> In CPU and GPU section Intel is the Dominant Member where in Cpu Intel Core i7 and in Gpu Intel HD Graphics is most Popular \n",
    " <li> In Operating System Mac is the clear Winner but Windows is also not much Far away\n",
    " <li> According to the Analysis the Atribute which makes the most price Difference of the laptops are Ram, IPS Display, Weight and Touchscreen"
   ]
  },
  {
   "cell_type": "code",
   "execution_count": 30,
   "id": "74e5e466",
   "metadata": {
    "execution": {
     "iopub.execute_input": "2021-11-12T11:16:13.138645Z",
     "iopub.status.busy": "2021-11-12T11:16:13.137892Z",
     "iopub.status.idle": "2021-11-12T11:16:13.143896Z",
     "shell.execute_reply": "2021-11-12T11:16:13.144444Z",
     "shell.execute_reply.started": "2021-11-12T11:10:03.017097Z"
    },
    "papermill": {
     "duration": 0.051014,
     "end_time": "2021-11-12T11:16:13.144623",
     "exception": false,
     "start_time": "2021-11-12T11:16:13.093609",
     "status": "completed"
    },
    "tags": []
   },
   "outputs": [],
   "source": [
    "X = data.drop(columns=['Price_euros'])\n",
    "y = np.log(data['Price_euros'])"
   ]
  },
  {
   "cell_type": "markdown",
   "id": "3d01e07d",
   "metadata": {
    "papermill": {
     "duration": 0.041046,
     "end_time": "2021-11-12T11:16:13.227756",
     "exception": false,
     "start_time": "2021-11-12T11:16:13.186710",
     "status": "completed"
    },
    "tags": []
   },
   "source": [
    "# Using Machine Learning to Predict Laptop Price\n",
    " \n",
    " ### I have tested this data with many well-Know Algorithims and i got the best result from VotingRegression Algorithm you can also Use any other Algorithm too."
   ]
  },
  {
   "cell_type": "code",
   "execution_count": 31,
   "id": "e4f1fe06",
   "metadata": {
    "execution": {
     "iopub.execute_input": "2021-11-12T11:16:13.315217Z",
     "iopub.status.busy": "2021-11-12T11:16:13.314510Z",
     "iopub.status.idle": "2021-11-12T11:16:13.495579Z",
     "shell.execute_reply": "2021-11-12T11:16:13.495012Z",
     "shell.execute_reply.started": "2021-11-12T11:10:03.02533Z"
    },
    "papermill": {
     "duration": 0.226184,
     "end_time": "2021-11-12T11:16:13.495717",
     "exception": false,
     "start_time": "2021-11-12T11:16:13.269533",
     "status": "completed"
    },
    "tags": []
   },
   "outputs": [],
   "source": [
    "from sklearn.model_selection import train_test_split\n",
    "X_train,X_test,y_train,y_test = train_test_split(X,y,test_size=0.15,random_state=2)"
   ]
  },
  {
   "cell_type": "code",
   "execution_count": 32,
   "id": "45497668",
   "metadata": {
    "execution": {
     "iopub.execute_input": "2021-11-12T11:16:13.581593Z",
     "iopub.status.busy": "2021-11-12T11:16:13.580821Z",
     "iopub.status.idle": "2021-11-12T11:16:13.590664Z",
     "shell.execute_reply": "2021-11-12T11:16:13.590108Z",
     "shell.execute_reply.started": "2021-11-12T11:10:03.039715Z"
    },
    "papermill": {
     "duration": 0.055088,
     "end_time": "2021-11-12T11:16:13.590802",
     "exception": false,
     "start_time": "2021-11-12T11:16:13.535714",
     "status": "completed"
    },
    "tags": []
   },
   "outputs": [],
   "source": [
    "from sklearn.compose import ColumnTransformer\n",
    "from sklearn.pipeline import Pipeline\n",
    "from sklearn.preprocessing import OneHotEncoder\n",
    "from sklearn.metrics import r2_score,mean_absolute_error"
   ]
  },
  {
   "cell_type": "code",
   "execution_count": 33,
   "id": "16165d2f",
   "metadata": {
    "execution": {
     "iopub.execute_input": "2021-11-12T11:16:13.677411Z",
     "iopub.status.busy": "2021-11-12T11:16:13.676627Z",
     "iopub.status.idle": "2021-11-12T11:16:13.957608Z",
     "shell.execute_reply": "2021-11-12T11:16:13.957075Z",
     "shell.execute_reply.started": "2021-11-12T11:10:03.050976Z"
    },
    "papermill": {
     "duration": 0.326372,
     "end_time": "2021-11-12T11:16:13.957741",
     "exception": false,
     "start_time": "2021-11-12T11:16:13.631369",
     "status": "completed"
    },
    "tags": []
   },
   "outputs": [],
   "source": [
    "from sklearn.ensemble import RandomForestRegressor,GradientBoostingRegressor,ExtraTreesRegressor\n",
    "from xgboost import XGBRegressor"
   ]
  },
  {
   "cell_type": "code",
   "execution_count": 34,
   "id": "d6018878",
   "metadata": {
    "execution": {
     "iopub.execute_input": "2021-11-12T11:16:14.041877Z",
     "iopub.status.busy": "2021-11-12T11:16:14.040868Z",
     "iopub.status.idle": "2021-11-12T11:16:16.790135Z",
     "shell.execute_reply": "2021-11-12T11:16:16.790670Z",
     "shell.execute_reply.started": "2021-11-12T11:10:03.063936Z"
    },
    "papermill": {
     "duration": 2.793128,
     "end_time": "2021-11-12T11:16:16.790849",
     "exception": false,
     "start_time": "2021-11-12T11:16:13.997721",
     "status": "completed"
    },
    "tags": []
   },
   "outputs": [
    {
     "name": "stdout",
     "output_type": "stream",
     "text": [
      "R2 score 0.8976312480310583\n",
      "MAE 0.152756677329679\n"
     ]
    }
   ],
   "source": [
    "\n",
    "from sklearn.ensemble import VotingRegressor,StackingRegressor\n",
    "\n",
    "step1 = ColumnTransformer(transformers=[\n",
    "    ('col_tnf',OneHotEncoder(sparse=False, handle_unknown='ignore'),[0,1,5,6,9,10,11,13])\n",
    "],remainder='passthrough')\n",
    "\n",
    "\n",
    "rf = RandomForestRegressor(n_estimators=350,random_state=3,max_samples=0.5,max_features=0.75,max_depth=15)\n",
    "gbdt = GradientBoostingRegressor(n_estimators=100,max_features=0.5)\n",
    "xgb = XGBRegressor(n_estimators=25,learning_rate=0.3,max_depth=5)\n",
    "et = ExtraTreesRegressor(n_estimators=100,random_state=3,max_samples=0.5,max_features=0.75,max_depth=10)\n",
    "\n",
    "step2 = VotingRegressor([('rf', rf), ('gbdt', gbdt), ('xgb',xgb), ('et',et)],weights=[5,1,1,1])\n",
    "\n",
    "pipe = Pipeline([\n",
    "    ('step1',step1),\n",
    "    ('step2',step2)\n",
    "])\n",
    "\n",
    "pipe.fit(X_train,y_train)\n",
    "\n",
    "y_pred = pipe.predict(X_test)\n",
    "\n",
    "print('R2 score',r2_score(y_test,y_pred))\n",
    "print('MAE',mean_absolute_error(y_test,y_pred))"
   ]
  },
  {
   "cell_type": "markdown",
   "id": "f6e50402",
   "metadata": {
    "papermill": {
     "duration": 0.039781,
     "end_time": "2021-11-12T11:16:16.871973",
     "exception": false,
     "start_time": "2021-11-12T11:16:16.832192",
     "status": "completed"
    },
    "tags": []
   },
   "source": [
    " # Exporting the Model"
   ]
  },
  {
   "cell_type": "code",
   "execution_count": 35,
   "id": "b5437b40",
   "metadata": {
    "execution": {
     "iopub.execute_input": "2021-11-12T11:16:16.956283Z",
     "iopub.status.busy": "2021-11-12T11:16:16.955704Z",
     "iopub.status.idle": "2021-11-12T11:16:17.035174Z",
     "shell.execute_reply": "2021-11-12T11:16:17.034555Z",
     "shell.execute_reply.started": "2021-11-12T11:10:06.191788Z"
    },
    "papermill": {
     "duration": 0.123421,
     "end_time": "2021-11-12T11:16:17.035370",
     "exception": false,
     "start_time": "2021-11-12T11:16:16.911949",
     "status": "completed"
    },
    "tags": []
   },
   "outputs": [],
   "source": [
    "import pickle\n",
    "pickle.dump(pipe,open('./laptop_price(3rd).pkl','wb'))"
   ]
  }
 ],
 "metadata": {
  "kernelspec": {
   "display_name": "Python 3",
   "language": "python",
   "name": "python3"
  },
  "language_info": {
   "codemirror_mode": {
    "name": "ipython",
    "version": 3
   },
   "file_extension": ".py",
   "mimetype": "text/x-python",
   "name": "python",
   "nbconvert_exporter": "python",
   "pygments_lexer": "ipython3",
   "version": "3.10.13"
  },
  "papermill": {
   "default_parameters": {},
   "duration": 21.112935,
   "end_time": "2021-11-12T11:16:17.896622",
   "environment_variables": {},
   "exception": null,
   "input_path": "__notebook__.ipynb",
   "output_path": "__notebook__.ipynb",
   "parameters": {},
   "start_time": "2021-11-12T11:15:56.783687",
   "version": "2.3.3"
  }
 },
 "nbformat": 4,
 "nbformat_minor": 5
}
